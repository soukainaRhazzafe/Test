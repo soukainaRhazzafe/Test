{
  "cells": [
    {
      "cell_type": "markdown",
      "metadata": {
        "id": "view-in-github",
        "colab_type": "text"
      },
      "source": [
        "<a href=\"https://colab.research.google.com/gist/soukainaRhazzafe/9f716c3dc8593b6135ae3de3144af0aa/titanicsurvivalscala.ipynb\" target=\"_parent\"><img src=\"https://colab.research.google.com/assets/colab-badge.svg\" alt=\"Open In Colab\"/></a>"
      ]
    },
    {
      "cell_type": "markdown",
      "id": "13442dec",
      "metadata": {
        "id": "13442dec"
      },
      "source": [
        "# Configuration spark:"
      ]
    },
    {
      "cell_type": "code",
      "execution_count": null,
      "id": "e44924ab",
      "metadata": {
        "id": "e44924ab"
      },
      "outputs": [],
      "source": [
        "%%init_spark\n",
        "launcher.num_executors = 4\n",
        "launcher.executor_cores = 2\n",
        "launcher.driver_memory = '4g'"
      ]
    },
    {
      "cell_type": "markdown",
      "id": "f5986ab8",
      "metadata": {
        "id": "f5986ab8"
      },
      "source": [
        "# Ouvrir une session spark:"
      ]
    },
    {
      "cell_type": "code",
      "execution_count": null,
      "id": "a7ee4e76",
      "metadata": {
        "id": "a7ee4e76",
        "outputId": "29236f65-7897-4043-ce71-303af8a687a5"
      },
      "outputs": [
        {
          "name": "stdout",
          "output_type": "stream",
          "text": [
            "Reset css and font defaults in:\r\n",
            "C:\\Users\\PC\\.jupyter\\custom &\r\n",
            "C:\\Users\\PC\\AppData\\Roaming\\jupyter\\nbextensions\r\n",
            "\n"
          ]
        }
      ],
      "source": [
        "!jt -r"
      ]
    },
    {
      "cell_type": "code",
      "execution_count": null,
      "id": "cb65aed4",
      "metadata": {
        "scrolled": true,
        "id": "cb65aed4",
        "outputId": "3643c69c-cb68-4b89-e93c-2d1f96abab9e"
      },
      "outputs": [
        {
          "data": {
            "text/plain": [
              "Intitializing Scala interpreter ..."
            ]
          },
          "metadata": {},
          "output_type": "display_data"
        },
        {
          "data": {
            "text/plain": [
              "Spark Web UI available at http://soukaina:4040\n",
              "SparkContext available as 'sc' (version = 3.1.3, master = local[*], app id = local-1653486311142)\n",
              "SparkSession available as 'spark'\n"
            ]
          },
          "metadata": {},
          "output_type": "display_data"
        },
        {
          "data": {
            "text/plain": [
              "import org.apache.spark.sql.SparkSession\r\n",
              "spark: org.apache.spark.sql.SparkSession = org.apache.spark.sql.SparkSession@7df407ab\r\n",
              "sc: org.apache.spark.SparkContext = org.apache.spark.SparkContext@bc7688b\r\n"
            ]
          },
          "execution_count": 3,
          "metadata": {},
          "output_type": "execute_result"
        }
      ],
      "source": [
        "import org.apache.spark.sql.SparkSession\n",
        "val spark = SparkSession.builder().appName(\"Spark\").config(\"app\",\"tdrt\").getOrCreate()\n",
        "val sc= spark.sparkContext"
      ]
    },
    {
      "cell_type": "markdown",
      "id": "0a15d2cd",
      "metadata": {
        "id": "0a15d2cd"
      },
      "source": [
        "# Importation des librairies:"
      ]
    },
    {
      "cell_type": "code",
      "execution_count": null,
      "id": "e734c8b3",
      "metadata": {
        "id": "e734c8b3",
        "outputId": "20096b81-e265-4040-bf37-56a9f8f73c8c"
      },
      "outputs": [
        {
          "data": {
            "text/plain": [
              "import org.apache.spark.ml.feature.{OneHotEncoder, StringIndexer}\r\n",
              "import org.apache.spark.ml._\r\n",
              "import org.apache.spark.ml.feature._\r\n",
              "import org.apache.spark.ml.classification.RandomForestClassifier\r\n",
              "import org.apache.spark.sql.functions._\r\n",
              "import org.apache.spark.sql.SaveMode\r\n",
              "import org.apache.spark.sql.DataFrame\r\n",
              "import org.apache.spark.sql.types.IntegerType\r\n",
              "import org.apache.spark.ml.tuning.ParamGridBuilder\r\n",
              "import org.apache.spark.ml.param.ParamMap\r\n",
              "import org.apache.spark.ml.tuning.CrossValidator\r\n",
              "import org.apache.spark.ml.evaluation.BinaryClassificationEvaluator\r\n",
              "import org.apache.spark.mllib.evaluation.MulticlassMetrics\r\n"
            ]
          },
          "execution_count": 4,
          "metadata": {},
          "output_type": "execute_result"
        }
      ],
      "source": [
        "import org.apache.spark.ml.feature.{OneHotEncoder, StringIndexer}\n",
        "import org.apache.spark.ml._\n",
        "import org.apache.spark.ml.feature._\n",
        "import org.apache.spark.ml.classification.RandomForestClassifier\n",
        "import org.apache.spark.sql.functions._\n",
        "import org.apache.spark.sql.SaveMode\n",
        "import org.apache.spark.sql.DataFrame\n",
        "import org.apache.spark.sql.types.IntegerType\n",
        "import org.apache.spark.ml.tuning.ParamGridBuilder\n",
        "import org.apache.spark.ml.param.ParamMap\n",
        "import org.apache.spark.ml.tuning.CrossValidator\n",
        "import org.apache.spark.ml.evaluation.BinaryClassificationEvaluator\n",
        "import org.apache.spark.mllib.evaluation.MulticlassMetrics"
      ]
    },
    {
      "cell_type": "markdown",
      "id": "df5555c7",
      "metadata": {
        "id": "df5555c7"
      },
      "source": [
        "# Chargement des donnees:"
      ]
    },
    {
      "cell_type": "code",
      "execution_count": null,
      "id": "ef1d56fe",
      "metadata": {
        "id": "ef1d56fe",
        "outputId": "03f7cdc7-4860-47ae-a355-d0a81f913f95"
      },
      "outputs": [
        {
          "data": {
            "text/plain": [
              "titanic: org.apache.spark.sql.DataFrame = [PassengerId: int, Survived: int ... 10 more fields]\r\n"
            ]
          },
          "execution_count": 5,
          "metadata": {},
          "output_type": "execute_result"
        }
      ],
      "source": [
        "val titanic = spark.read.option(\"header\", \"true\").option(\"inferSchema\", \"true\").csv(\"titanicDataset1.csv\")"
      ]
    },
    {
      "cell_type": "markdown",
      "id": "8a0c391f",
      "metadata": {
        "id": "8a0c391f"
      },
      "source": [
        "# Le dataset:"
      ]
    },
    {
      "cell_type": "code",
      "execution_count": null,
      "id": "137a8c0d",
      "metadata": {
        "id": "137a8c0d",
        "outputId": "3e8edd1b-2d84-4b46-8f75-717839ef96a6"
      },
      "outputs": [
        {
          "name": "stdout",
          "output_type": "stream",
          "text": [
            "+-----------+--------+------+--------------------+------+----+-----+-----+----------------+-------+-----+--------+\n",
            "|PassengerId|Survived|Pclass|                Name|   Sex| Age|SibSp|Parch|          Ticket|   Fare|Cabin|Embarked|\n",
            "+-----------+--------+------+--------------------+------+----+-----+-----+----------------+-------+-----+--------+\n",
            "|          1|       0|     3|Braund, Mr. Owen ...|  male|22.0|    1|    0|       A/5 21171|   7.25| null|       S|\n",
            "|          2|       1|     1|Cumings, Mrs. Joh...|female|38.0|    1|    0|        PC 17599|71.2833|  C85|       C|\n",
            "|          3|       1|     3|Heikkinen, Miss. ...|female|26.0|    0|    0|STON/O2. 3101282|  7.925| null|       S|\n",
            "|          4|       1|     1|Futrelle, Mrs. Ja...|female|35.0|    1|    0|          113803|   53.1| C123|       S|\n",
            "|          5|       0|     3|Allen, Mr. Willia...|  male|35.0|    0|    0|          373450|   8.05| null|       S|\n",
            "|          6|       0|     3|    Moran, Mr. James|  male|null|    0|    0|          330877| 8.4583| null|       Q|\n",
            "|          7|       0|     1|McCarthy, Mr. Tim...|  male|54.0|    0|    0|           17463|51.8625|  E46|       S|\n",
            "|          8|       0|     3|Palsson, Master. ...|  male| 2.0|    3|    1|          349909| 21.075| null|       S|\n",
            "|          9|       1|     3|Johnson, Mrs. Osc...|female|27.0|    0|    2|          347742|11.1333| null|       S|\n",
            "|         10|       1|     2|Nasser, Mrs. Nich...|female|14.0|    1|    0|          237736|30.0708| null|       C|\n",
            "|         11|       1|     3|Sandstrom, Miss. ...|female| 4.0|    1|    1|         PP 9549|   16.7|   G6|       S|\n",
            "|         12|       1|     1|Bonnell, Miss. El...|female|58.0|    0|    0|          113783|  26.55| C103|       S|\n",
            "|         13|       0|     3|Saundercock, Mr. ...|  male|20.0|    0|    0|       A/5. 2151|   8.05| null|       S|\n",
            "|         14|       0|     3|Andersson, Mr. An...|  male|39.0|    1|    5|          347082| 31.275| null|       S|\n",
            "|         15|       0|     3|Vestrom, Miss. Hu...|female|14.0|    0|    0|          350406| 7.8542| null|       S|\n",
            "|         16|       1|     2|Hewlett, Mrs. (Ma...|female|55.0|    0|    0|          248706|   16.0| null|       S|\n",
            "|         17|       0|     3|Rice, Master. Eugene|  male| 2.0|    4|    1|          382652| 29.125| null|       Q|\n",
            "|         18|       1|     2|Williams, Mr. Cha...|  male|null|    0|    0|          244373|   13.0| null|       S|\n",
            "|         19|       0|     3|Vander Planke, Mr...|female|31.0|    1|    0|          345763|   18.0| null|       S|\n",
            "|         20|       1|     3|Masselmani, Mrs. ...|female|null|    0|    0|            2649|  7.225| null|       C|\n",
            "+-----------+--------+------+--------------------+------+----+-----+-----+----------------+-------+-----+--------+\n",
            "only showing top 20 rows\n",
            "\n"
          ]
        }
      ],
      "source": [
        "titanic.show()"
      ]
    },
    {
      "cell_type": "markdown",
      "id": "e76e259e",
      "metadata": {
        "id": "e76e259e"
      },
      "source": [
        "# Description des colonnes:\n",
        "\n",
        "1. PassengerID:\n",
        "2. Survived: whether the passenger has survived the ship sinking (1) or not (0).\n",
        "3. Pclass - Passenger's Ccass (1 = 1st; 2 = 2nd; 3 = 3rd)\n",
        "4. Name - Passenger's name\n",
        "5. Sex - Passenger's sex\n",
        "6. Age - Passenger's age\n",
        "7. Sibsp - Number of Siblings/Spouses Aboard\n",
        "8. Parch - Number of Parents/Children Aboard\n",
        "9. Ticket - Ticket Number\n",
        "10. Fare - Passenger's ticket's fare\n",
        "11. Cabin - Cabin\n",
        "12. Embarked - Port of Embarkation (C = Cherbourg; Q = Queenstown; S = Southampton)"
      ]
    },
    {
      "cell_type": "markdown",
      "id": "9d85a0b9",
      "metadata": {
        "id": "9d85a0b9"
      },
      "source": [
        "# Nombre de ligne:"
      ]
    },
    {
      "cell_type": "code",
      "execution_count": null,
      "id": "64405b63",
      "metadata": {
        "id": "64405b63",
        "outputId": "8efb47da-0c28-489b-9ac9-b0320b86c0c7"
      },
      "outputs": [
        {
          "data": {
            "text/plain": [
              "res1: Long = 891\r\n"
            ]
          },
          "execution_count": 7,
          "metadata": {},
          "output_type": "execute_result"
        }
      ],
      "source": [
        "titanic.count()"
      ]
    },
    {
      "cell_type": "markdown",
      "id": "9088310f",
      "metadata": {
        "id": "9088310f"
      },
      "source": [
        "# Les informations sur les donnees:"
      ]
    },
    {
      "cell_type": "code",
      "execution_count": null,
      "id": "e4de293b",
      "metadata": {
        "id": "e4de293b",
        "outputId": "93df74a4-b6c1-4719-a0e1-c369f3c4ee3e"
      },
      "outputs": [
        {
          "name": "stdout",
          "output_type": "stream",
          "text": [
            "root\n",
            " |-- PassengerId: integer (nullable = true)\n",
            " |-- Survived: integer (nullable = true)\n",
            " |-- Pclass: integer (nullable = true)\n",
            " |-- Name: string (nullable = true)\n",
            " |-- Sex: string (nullable = true)\n",
            " |-- Age: double (nullable = true)\n",
            " |-- SibSp: integer (nullable = true)\n",
            " |-- Parch: integer (nullable = true)\n",
            " |-- Ticket: string (nullable = true)\n",
            " |-- Fare: double (nullable = true)\n",
            " |-- Cabin: string (nullable = true)\n",
            " |-- Embarked: string (nullable = true)\n",
            "\n"
          ]
        }
      ],
      "source": [
        "titanic.printSchema()"
      ]
    },
    {
      "cell_type": "markdown",
      "id": "9085e9a3",
      "metadata": {
        "id": "9085e9a3"
      },
      "source": [
        "# Les types des donnees sont compatibles avec les valeurs des colonnes.\n"
      ]
    },
    {
      "cell_type": "markdown",
      "id": "4d384d7b",
      "metadata": {
        "id": "4d384d7b"
      },
      "source": [
        "# Suppression des colonnes non pertinantes:"
      ]
    },
    {
      "cell_type": "code",
      "execution_count": null,
      "id": "3ff429cf",
      "metadata": {
        "id": "3ff429cf",
        "outputId": "17f542cf-1f02-446b-85c0-1da2a469066c"
      },
      "outputs": [
        {
          "data": {
            "text/plain": [
              "Titanic: org.apache.spark.sql.DataFrame = [Survived: int, Pclass: int ... 7 more fields]\r\n"
            ]
          },
          "execution_count": 9,
          "metadata": {},
          "output_type": "execute_result"
        }
      ],
      "source": [
        "val Titanic= titanic.drop(\"PassengerId\",\"Name\",\"Ticket\")"
      ]
    },
    {
      "cell_type": "code",
      "execution_count": null,
      "id": "0a3eea9d",
      "metadata": {
        "id": "0a3eea9d",
        "outputId": "0bf3ab9f-5020-4a56-ea16-f7ef7b70336b"
      },
      "outputs": [
        {
          "name": "stdout",
          "output_type": "stream",
          "text": [
            "+--------+------+------+----+-----+-----+-------+-----+--------+\n",
            "|Survived|Pclass|   Sex| Age|SibSp|Parch|   Fare|Cabin|Embarked|\n",
            "+--------+------+------+----+-----+-----+-------+-----+--------+\n",
            "|       0|     3|  male|22.0|    1|    0|   7.25| null|       S|\n",
            "|       1|     1|female|38.0|    1|    0|71.2833|  C85|       C|\n",
            "|       1|     3|female|26.0|    0|    0|  7.925| null|       S|\n",
            "|       1|     1|female|35.0|    1|    0|   53.1| C123|       S|\n",
            "|       0|     3|  male|35.0|    0|    0|   8.05| null|       S|\n",
            "|       0|     3|  male|null|    0|    0| 8.4583| null|       Q|\n",
            "|       0|     1|  male|54.0|    0|    0|51.8625|  E46|       S|\n",
            "|       0|     3|  male| 2.0|    3|    1| 21.075| null|       S|\n",
            "|       1|     3|female|27.0|    0|    2|11.1333| null|       S|\n",
            "|       1|     2|female|14.0|    1|    0|30.0708| null|       C|\n",
            "|       1|     3|female| 4.0|    1|    1|   16.7|   G6|       S|\n",
            "|       1|     1|female|58.0|    0|    0|  26.55| C103|       S|\n",
            "|       0|     3|  male|20.0|    0|    0|   8.05| null|       S|\n",
            "|       0|     3|  male|39.0|    1|    5| 31.275| null|       S|\n",
            "|       0|     3|female|14.0|    0|    0| 7.8542| null|       S|\n",
            "|       1|     2|female|55.0|    0|    0|   16.0| null|       S|\n",
            "|       0|     3|  male| 2.0|    4|    1| 29.125| null|       Q|\n",
            "|       1|     2|  male|null|    0|    0|   13.0| null|       S|\n",
            "|       0|     3|female|31.0|    1|    0|   18.0| null|       S|\n",
            "|       1|     3|female|null|    0|    0|  7.225| null|       C|\n",
            "+--------+------+------+----+-----+-----+-------+-----+--------+\n",
            "only showing top 20 rows\n",
            "\n"
          ]
        }
      ],
      "source": [
        "Titanic.show()"
      ]
    },
    {
      "cell_type": "markdown",
      "id": "f2c1fb4a",
      "metadata": {
        "id": "f2c1fb4a"
      },
      "source": [
        "# Suppression des lignes dupliquees :"
      ]
    },
    {
      "cell_type": "code",
      "execution_count": null,
      "id": "47aae3d3",
      "metadata": {
        "id": "47aae3d3",
        "outputId": "085b303f-6add-4dc8-cf0e-6471cd12c3a4"
      },
      "outputs": [
        {
          "name": "stdout",
          "output_type": "stream",
          "text": [
            "Distinct count: 784\n",
            "+--------+------+------+----+-----+-----+-------+-------+--------+\n",
            "|Survived|Pclass|   Sex| Age|SibSp|Parch|   Fare|  Cabin|Embarked|\n",
            "+--------+------+------+----+-----+-----+-------+-------+--------+\n",
            "|       1|     2|  male| 1.0|    2|    1|   39.0|     F4|       S|\n",
            "|       0|     3|  male|22.0|    0|    0| 7.8958|   null|       S|\n",
            "|       1|     3|female|22.0|    0|    0|   7.25|   null|       S|\n",
            "|       0|     3|  male|22.0|    0|    0| 7.7958|   null|       S|\n",
            "|       1|     1|female|44.0|    0|    1|57.9792|    B18|       C|\n",
            "|       1|     1|  male|50.0|    2|    0| 133.65|   null|       S|\n",
            "|       1|     1|  male|0.92|    1|    2| 151.55|C22 C26|       S|\n",
            "|       0|     2|  male|43.0|    1|    1|  26.25|   null|       S|\n",
            "|       0|     3|  male|24.0|    0|    0| 7.7958|   null|       S|\n",
            "|       0|     1|  male|50.0|    1|    0|106.425|    C86|       C|\n",
            "|       0|     3|  male|30.5|    0|    0|   8.05|   null|       S|\n",
            "|       1|     2|female|27.0|    1|    0|13.8583|   null|       C|\n",
            "|       1|     1|female|32.0|    0|    0|76.2917|    D15|       C|\n",
            "|       1|     3|female| 1.0|    0|    2|15.7417|   null|       C|\n",
            "|       0|     3|female| 9.0|    1|    1|15.2458|   null|       C|\n",
            "|       0|     3|  male|26.0|    2|    0| 8.6625|   null|       S|\n",
            "|       0|     2|  male|34.0|    1|    0|   21.0|   null|       S|\n",
            "|       1|     1|female|30.0|    0|    0|106.425|   null|       C|\n",
            "|       0|     2|  male|25.0|    0|    0|   13.0|   null|       S|\n",
            "|       1|     2|female|null|    0|    0|  12.35|   E101|       Q|\n",
            "+--------+------+------+----+-----+-----+-------+-------+--------+\n",
            "only showing top 20 rows\n",
            "\n"
          ]
        },
        {
          "data": {
            "text/plain": [
              "df: org.apache.spark.sql.Dataset[org.apache.spark.sql.Row] = [Survived: int, Pclass: int ... 7 more fields]\r\n"
            ]
          },
          "execution_count": 11,
          "metadata": {},
          "output_type": "execute_result"
        }
      ],
      "source": [
        "val df =  Titanic.dropDuplicates()\n",
        "println(\"Distinct count: \"+df.count())\n",
        "df.show()"
      ]
    },
    {
      "cell_type": "code",
      "execution_count": null,
      "id": "3c3a9b69",
      "metadata": {
        "id": "3c3a9b69",
        "outputId": "b9442d5d-01b1-4501-d981-2da8bf208d86"
      },
      "outputs": [
        {
          "name": "stdout",
          "output_type": "stream",
          "text": [
            "Distinct count: 784\n",
            "+--------+------+------+----+-----+-----+-------+-------+--------+\n",
            "|Survived|Pclass|   Sex| Age|SibSp|Parch|   Fare|  Cabin|Embarked|\n",
            "+--------+------+------+----+-----+-----+-------+-------+--------+\n",
            "|       1|     2|  male| 1.0|    2|    1|   39.0|     F4|       S|\n",
            "|       0|     3|  male|22.0|    0|    0| 7.8958|   null|       S|\n",
            "|       1|     3|female|22.0|    0|    0|   7.25|   null|       S|\n",
            "|       0|     3|  male|22.0|    0|    0| 7.7958|   null|       S|\n",
            "|       1|     1|female|44.0|    0|    1|57.9792|    B18|       C|\n",
            "|       1|     1|  male|50.0|    2|    0| 133.65|   null|       S|\n",
            "|       1|     1|  male|0.92|    1|    2| 151.55|C22 C26|       S|\n",
            "|       0|     2|  male|43.0|    1|    1|  26.25|   null|       S|\n",
            "|       0|     3|  male|24.0|    0|    0| 7.7958|   null|       S|\n",
            "|       0|     1|  male|50.0|    1|    0|106.425|    C86|       C|\n",
            "|       0|     3|  male|30.5|    0|    0|   8.05|   null|       S|\n",
            "|       1|     2|female|27.0|    1|    0|13.8583|   null|       C|\n",
            "|       1|     1|female|32.0|    0|    0|76.2917|    D15|       C|\n",
            "|       1|     3|female| 1.0|    0|    2|15.7417|   null|       C|\n",
            "|       0|     3|female| 9.0|    1|    1|15.2458|   null|       C|\n",
            "|       0|     3|  male|26.0|    2|    0| 8.6625|   null|       S|\n",
            "|       0|     2|  male|34.0|    1|    0|   21.0|   null|       S|\n",
            "|       1|     1|female|30.0|    0|    0|106.425|   null|       C|\n",
            "|       0|     2|  male|25.0|    0|    0|   13.0|   null|       S|\n",
            "|       1|     2|female|null|    0|    0|  12.35|   E101|       Q|\n",
            "+--------+------+------+----+-----+-----+-------+-------+--------+\n",
            "only showing top 20 rows\n",
            "\n"
          ]
        },
        {
          "data": {
            "text/plain": [
              "df: org.apache.spark.sql.Dataset[org.apache.spark.sql.Row] = [Survived: int, Pclass: int ... 7 more fields]\r\n"
            ]
          },
          "execution_count": 12,
          "metadata": {},
          "output_type": "execute_result"
        }
      ],
      "source": [
        "val df= Titanic.distinct()\n",
        "println(\"Distinct count: \"+df.count())\n",
        "df.show()"
      ]
    },
    {
      "cell_type": "markdown",
      "id": "4e14f099",
      "metadata": {
        "id": "4e14f099"
      },
      "source": [
        "# Traitement des valeurs manquantes:"
      ]
    },
    {
      "cell_type": "code",
      "execution_count": null,
      "id": "661f226b",
      "metadata": {
        "id": "661f226b",
        "outputId": "baade7e3-fe9b-4979-86ba-58fdb4c64454"
      },
      "outputs": [
        {
          "name": "stdout",
          "output_type": "stream",
          "text": [
            "Null values Survived : 0\n",
            "Null values PClass : 0\n",
            "Null values Age : 106\n",
            "Null values Sex : 0\n",
            "Null values Sibsp : 0\n",
            "Null values Parch : 0\n",
            "Null values Fare : 0\n",
            "Null values Cabin : 581\n",
            "Null values Embarked : 2\n"
          ]
        }
      ],
      "source": [
        "println(\"Null values Survived : \"+df.filter(df(\"Survived\").isNull).count())\n",
        "println(\"Null values PClass : \"+df.filter(df(\"PClass\").isNull).count())\n",
        "println(\"Null values Age : \"+df.filter(df(\"Age\").isNull).count())\n",
        "println(\"Null values Sex : \"+df.filter(df(\"Sex\").isNull).count())\n",
        "println(\"Null values Sibsp : \"+df.filter(df(\"Sibsp\").isNull).count())\n",
        "println(\"Null values Parch : \"+df.filter(df(\"Parch\").isNull).count())\n",
        "println(\"Null values Fare : \"+df.filter(df(\"Fare\").isNull).count())\n",
        "println(\"Null values Cabin : \"+df.filter(df(\"Cabin\").isNull).count())\n",
        "println(\"Null values Embarked : \"+df.filter(df(\"Embarked\").isNull).count())"
      ]
    },
    {
      "cell_type": "markdown",
      "id": "8e959f7f",
      "metadata": {
        "id": "8e959f7f"
      },
      "source": [
        "# Beaucoup de valeurs manquantes de la colonne \"Cabin\" => il faut qu'on la supprime , les valeurs manquantes de la colonne \"Age\" peux etre rempli et les lignes dans la valeur de la colonne \"Embarked\" est nulle peuvent etre supprimees\n"
      ]
    },
    {
      "cell_type": "code",
      "execution_count": null,
      "id": "9b2e5658",
      "metadata": {
        "id": "9b2e5658",
        "outputId": "76976d03-a0e6-4ee1-d9c0-cef3cff714b6"
      },
      "outputs": [
        {
          "data": {
            "text/plain": [
              "Titanic: org.apache.spark.sql.DataFrame = [Survived: int, Pclass: int ... 6 more fields]\r\n"
            ]
          },
          "execution_count": 14,
          "metadata": {},
          "output_type": "execute_result"
        }
      ],
      "source": [
        "val Titanic= df.drop(\"Cabin\")"
      ]
    },
    {
      "cell_type": "markdown",
      "id": "17d0d81d",
      "metadata": {
        "id": "17d0d81d"
      },
      "source": [
        "# Remplir \"Age\":"
      ]
    },
    {
      "cell_type": "code",
      "execution_count": null,
      "id": "65dd1678",
      "metadata": {
        "id": "65dd1678",
        "outputId": "395b77b7-d99e-43b3-86c7-9d9a2bab9c42"
      },
      "outputs": [
        {
          "data": {
            "text/plain": [
              "meanValue: Double = 29.869351032448375\r\n",
              "fixedDf: org.apache.spark.sql.DataFrame = [Survived: int, Pclass: int ... 6 more fields]\r\n"
            ]
          },
          "execution_count": 15,
          "metadata": {},
          "output_type": "execute_result"
        }
      ],
      "source": [
        "val meanValue = Titanic.agg(mean(Titanic(\"Age\"))).first.getDouble(0)\n",
        "val fixedDf = Titanic.na.fill(meanValue, Array(\"Age\"))"
      ]
    },
    {
      "cell_type": "code",
      "execution_count": null,
      "id": "ad008642",
      "metadata": {
        "id": "ad008642",
        "outputId": "9e3ca787-12ce-49f2-edfa-4d8c9e17179e"
      },
      "outputs": [
        {
          "name": "stdout",
          "output_type": "stream",
          "text": [
            "Null values Age : 0\n"
          ]
        }
      ],
      "source": [
        "println(\"Null values Age : \"+fixedDf.filter(fixedDf(\"Age\").isNull).count())"
      ]
    },
    {
      "cell_type": "markdown",
      "id": "06dda040",
      "metadata": {
        "id": "06dda040"
      },
      "source": [
        "# Suppression des lignes dont la valeur de la colonne \"Embarked\" est nulle:"
      ]
    },
    {
      "cell_type": "code",
      "execution_count": null,
      "id": "07e139ed",
      "metadata": {
        "id": "07e139ed",
        "outputId": "f5f9b4ec-dbe0-49b1-da95-b7712bef4b56"
      },
      "outputs": [
        {
          "data": {
            "text/plain": [
              "titanic: org.apache.spark.sql.DataFrame = [Survived: int, Pclass: int ... 6 more fields]\r\n"
            ]
          },
          "execution_count": 17,
          "metadata": {},
          "output_type": "execute_result"
        }
      ],
      "source": [
        "val titanic= fixedDf.na.drop()"
      ]
    },
    {
      "cell_type": "markdown",
      "id": "45fb31d2",
      "metadata": {
        "id": "45fb31d2"
      },
      "source": [
        "# Nombre des lignes restantes:"
      ]
    },
    {
      "cell_type": "code",
      "execution_count": null,
      "id": "d48ca764",
      "metadata": {
        "id": "d48ca764",
        "outputId": "9d851428-db6c-4953-d7b9-3c4e2699ce7a"
      },
      "outputs": [
        {
          "data": {
            "text/plain": [
              "res8: Long = 782\r\n"
            ]
          },
          "execution_count": 18,
          "metadata": {},
          "output_type": "execute_result"
        }
      ],
      "source": [
        "titanic.count()"
      ]
    },
    {
      "cell_type": "code",
      "execution_count": null,
      "id": "f0465481",
      "metadata": {
        "id": "f0465481"
      },
      "outputs": [],
      "source": [
        "titanic.createOrReplaceTempView(\"titanic\")"
      ]
    },
    {
      "cell_type": "code",
      "execution_count": null,
      "id": "9baef7b7",
      "metadata": {
        "id": "9baef7b7",
        "outputId": "3472ed62-b763-44ea-b54e-f0b8ec9b4b51"
      },
      "outputs": [
        {
          "name": "stdout",
          "output_type": "stream",
          "text": [
            "+--------+------+------+------------------+-----+-----+-------+--------+\n",
            "|Survived|Pclass|   Sex|               Age|SibSp|Parch|   Fare|Embarked|\n",
            "+--------+------+------+------------------+-----+-----+-------+--------+\n",
            "|       1|     2|  male|               1.0|    2|    1|   39.0|       S|\n",
            "|       0|     3|  male|              22.0|    0|    0| 7.8958|       S|\n",
            "|       1|     3|female|              22.0|    0|    0|   7.25|       S|\n",
            "|       0|     3|  male|              22.0|    0|    0| 7.7958|       S|\n",
            "|       1|     1|female|              44.0|    0|    1|57.9792|       C|\n",
            "|       1|     1|  male|              50.0|    2|    0| 133.65|       S|\n",
            "|       1|     1|  male|              0.92|    1|    2| 151.55|       S|\n",
            "|       0|     2|  male|              43.0|    1|    1|  26.25|       S|\n",
            "|       0|     3|  male|              24.0|    0|    0| 7.7958|       S|\n",
            "|       0|     1|  male|              50.0|    1|    0|106.425|       C|\n",
            "|       0|     3|  male|              30.5|    0|    0|   8.05|       S|\n",
            "|       1|     2|female|              27.0|    1|    0|13.8583|       C|\n",
            "|       1|     1|female|              32.0|    0|    0|76.2917|       C|\n",
            "|       1|     3|female|               1.0|    0|    2|15.7417|       C|\n",
            "|       0|     3|female|               9.0|    1|    1|15.2458|       C|\n",
            "|       0|     3|  male|              26.0|    2|    0| 8.6625|       S|\n",
            "|       0|     2|  male|              34.0|    1|    0|   21.0|       S|\n",
            "|       1|     1|female|              30.0|    0|    0|106.425|       C|\n",
            "|       0|     2|  male|              25.0|    0|    0|   13.0|       S|\n",
            "|       1|     2|female|29.869351032448375|    0|    0|  12.35|       Q|\n",
            "+--------+------+------+------------------+-----+-----+-------+--------+\n",
            "only showing top 20 rows\n",
            "\n"
          ]
        }
      ],
      "source": [
        "titanic.show()"
      ]
    },
    {
      "cell_type": "markdown",
      "id": "5b805565",
      "metadata": {
        "id": "5b805565"
      },
      "source": [
        "# Visualisations:"
      ]
    },
    {
      "cell_type": "code",
      "execution_count": null,
      "id": "d5fc2cc0",
      "metadata": {
        "id": "d5fc2cc0"
      },
      "outputs": [],
      "source": [
        "%%python\n",
        "\n",
        "\n",
        "import matplotlib\n",
        "import pandas as pd\n",
        "import numpy as np\n",
        "import seaborn as sns\n",
        "import matplotlib.pyplot as plt\n",
        "from IPython.display import Image"
      ]
    },
    {
      "cell_type": "code",
      "execution_count": null,
      "id": "04acab9a",
      "metadata": {
        "id": "04acab9a",
        "outputId": "95a3dc1c-eae2-41aa-c081-6a70ee510564"
      },
      "outputs": [
        {
          "data": {
            "image/png": "[encoded data removed]",
            "text/plain": [
              "<IPython.core.display.Image object>"
            ]
          },
          "execution_count": 32,
          "metadata": {},
          "output_type": "execute_result"
        }
      ],
      "source": [
        "%%python\n",
        "\n",
        "titanic = spark.sql(\"select * from titanic\")\n",
        "titanic= titanic.toPandas()\n",
        "plt.bar(titanic['Survived'].unique(), titanic['Survived'].value_counts())\n",
        "plt.xlabel(\"Survived\")\n",
        "plt.ylabel(\"Count\")\n",
        "plt.savefig(\"sq.png\")\n",
        "Image(filename= \"sq.png\")\n"
      ]
    },
    {
      "cell_type": "markdown",
      "id": "6106c963",
      "metadata": {
        "id": "6106c963"
      },
      "source": [
        "# Spliting :"
      ]
    },
    {
      "cell_type": "code",
      "execution_count": null,
      "id": "d2460aec",
      "metadata": {
        "id": "d2460aec",
        "outputId": "f06c80f8-804c-49b6-f2dc-e760a1065ecc"
      },
      "outputs": [
        {
          "data": {
            "text/plain": [
              "dfs: Array[org.apache.spark.sql.Dataset[org.apache.spark.sql.Row]] = Array([Survived: int, Pclass: int ... 6 more fields], [Survived: int, Pclass: int ... 6 more fields])\r\n",
              "trainDf: org.apache.spark.sql.DataFrame = [label: int, Pclass: int ... 6 more fields]\r\n",
              "testDf: org.apache.spark.sql.Dataset[org.apache.spark.sql.Row] = [Survived: int, Pclass: int ... 6 more fields]\r\n"
            ]
          },
          "execution_count": 23,
          "metadata": {},
          "output_type": "execute_result"
        }
      ],
      "source": [
        "val dfs = titanic.randomSplit(Array(0.7, 0.3))\n",
        "val trainDf = dfs(0).withColumnRenamed(\"Survived\", \"label\")\n",
        "val testDf = dfs(1)\n",
        "\n",
        "trainDf.createOrReplaceTempView(\"trainDf\")\n",
        "testDf.createOrReplaceTempView(\"testDf\")"
      ]
    },
    {
      "cell_type": "markdown",
      "id": "2f3a8f9c",
      "metadata": {
        "id": "2f3a8f9c"
      },
      "source": [
        "# Distinct valueurs des colonnes:"
      ]
    },
    {
      "cell_type": "code",
      "execution_count": null,
      "id": "e6c063f1",
      "metadata": {
        "id": "e6c063f1",
        "outputId": "f3fa9575-cb9f-4c36-b4c8-86e8d33f7c5d"
      },
      "outputs": [
        {
          "name": "stdout",
          "output_type": "stream",
          "text": [
            "+------+\n",
            "|   Sex|\n",
            "+------+\n",
            "|female|\n",
            "|  male|\n",
            "+------+\n",
            "\n",
            "+------+\n",
            "|Pclass|\n",
            "+------+\n",
            "|     1|\n",
            "|     3|\n",
            "|     2|\n",
            "+------+\n",
            "\n",
            "+--------+\n",
            "|Embarked|\n",
            "+--------+\n",
            "|       Q|\n",
            "|       C|\n",
            "|       S|\n",
            "+--------+\n",
            "\n"
          ]
        }
      ],
      "source": [
        "titanic.select(\"Sex\").distinct().show()\n",
        "titanic.select(\"Pclass\").distinct().show()\n",
        "titanic.select(\"Embarked\").distinct().show()"
      ]
    },
    {
      "cell_type": "markdown",
      "id": "7c551dff",
      "metadata": {
        "id": "7c551dff"
      },
      "source": [
        "# OneHotEncoding :"
      ]
    },
    {
      "cell_type": "code",
      "execution_count": null,
      "id": "269c670d",
      "metadata": {
        "id": "269c670d",
        "outputId": "bed5d261-10a7-4778-c736-e6cd7fe6f929"
      },
      "outputs": [
        {
          "data": {
            "text/plain": [
              "handleCategorical: (column: String)Array[org.apache.spark.ml.PipelineStage]\r\n",
              "genderStages: Array[org.apache.spark.ml.PipelineStage] = Array(strIdx_9b6bc572d9c9, oneHotEncoder_b466c96d5708)\r\n",
              "embarkedStages: Array[org.apache.spark.ml.PipelineStage] = Array(strIdx_da61d4b0b755, oneHotEncoder_56d4f79e6f50)\r\n",
              "pClassStages: Array[org.apache.spark.ml.PipelineStage] = Array(strIdx_6ee91580d2ae, oneHotEncoder_a1ec58afd25b)\r\n"
            ]
          },
          "execution_count": 25,
          "metadata": {},
          "output_type": "execute_result"
        }
      ],
      "source": [
        "def handleCategorical(column: String): Array[PipelineStage] = {\n",
        "  val stringIndexer = new StringIndexer().setInputCol(column)\n",
        "    .setOutputCol(s\"${column}_index\")\n",
        "    .setHandleInvalid(\"skip\")\n",
        "  val oneHot = new OneHotEncoder().setInputCol(s\"${column}_index\").setOutputCol(s\"${column}_onehot\")\n",
        "  Array(stringIndexer, oneHot)\n",
        "}\n",
        "\n",
        "val genderStages = handleCategorical(\"Sex\")\n",
        "val embarkedStages = handleCategorical(\"Embarked\")\n",
        "val pClassStages = handleCategorical(\"Pclass\")"
      ]
    },
    {
      "cell_type": "markdown",
      "id": "55ab265a",
      "metadata": {
        "id": "55ab265a"
      },
      "source": [
        "# Vectors assembly:"
      ]
    },
    {
      "cell_type": "code",
      "execution_count": null,
      "id": "2fe30586",
      "metadata": {
        "id": "2fe30586",
        "outputId": "abfce63e-f7dc-4057-86df-a1625fd5e2e1"
      },
      "outputs": [
        {
          "data": {
            "text/plain": [
              "cols: Array[String] = Array(Sex_onehot, Embarked_onehot, Pclass_onehot, SibSp, Parch, Age, Fare)\r\n",
              "vectorAssembler: org.apache.spark.ml.feature.VectorAssembler = VectorAssembler: uid=vecAssembler_caa18903ea08, handleInvalid=error, numInputCols=7\r\n"
            ]
          },
          "execution_count": 26,
          "metadata": {},
          "output_type": "execute_result"
        }
      ],
      "source": [
        "val cols = Array(\"Sex_onehot\", \"Embarked_onehot\", \"Pclass_onehot\", \"SibSp\", \"Parch\", \"Age\", \"Fare\")\n",
        "val vectorAssembler = new VectorAssembler().setInputCols(cols).setOutputCol(\"features\")"
      ]
    },
    {
      "cell_type": "markdown",
      "id": "6d9face1",
      "metadata": {
        "id": "6d9face1"
      },
      "source": [
        "# Fiting pipeline:"
      ]
    },
    {
      "cell_type": "code",
      "execution_count": null,
      "id": "989fb8e7",
      "metadata": {
        "id": "989fb8e7",
        "outputId": "bc96f265-8b87-4d10-d22d-6045e2f6b3f4"
      },
      "outputs": [
        {
          "data": {
            "text/plain": [
              "randomForestClassifier: org.apache.spark.ml.classification.RandomForestClassifier = rfc_669617babf26\r\n",
              "preProcessStages: Array[org.apache.spark.ml.PipelineStage] = Array(strIdx_9b6bc572d9c9, oneHotEncoder_b466c96d5708, strIdx_da61d4b0b755, oneHotEncoder_56d4f79e6f50, strIdx_6ee91580d2ae, oneHotEncoder_a1ec58afd25b, VectorAssembler: uid=vecAssembler_caa18903ea08, handleInvalid=error, numInputCols=7)\r\n",
              "pipeline: org.apache.spark.ml.Pipeline = pipeline_56cf6da21c04\r\n",
              "model: org.apache.spark.ml.PipelineModel = pipeline_56cf6da21c04\r\n"
            ]
          },
          "execution_count": 27,
          "metadata": {},
          "output_type": "execute_result"
        }
      ],
      "source": [
        "val randomForestClassifier = new RandomForestClassifier()\n",
        "\n",
        "val preProcessStages = genderStages ++ embarkedStages ++ pClassStages ++ Array(vectorAssembler)\n",
        "val pipeline = new Pipeline().setStages(preProcessStages ++ Array(randomForestClassifier))\n",
        "\n",
        "val model = pipeline.fit(trainDf)"
      ]
    },
    {
      "cell_type": "markdown",
      "id": "74672d60",
      "metadata": {
        "id": "74672d60"
      },
      "source": [
        "# Evaluation:"
      ]
    },
    {
      "cell_type": "code",
      "execution_count": null,
      "id": "35821421",
      "metadata": {
        "id": "35821421",
        "outputId": "1f5933fb-f085-4a0d-9698-91f65c96aacf"
      },
      "outputs": [
        {
          "name": "stdout",
          "output_type": "stream",
          "text": [
            "test accuracy with pipeline 0.8\n"
          ]
        },
        {
          "data": {
            "text/plain": [
              "accuracyScore: (df: org.apache.spark.sql.DataFrame, label: String, predictCol: String)Double\r\n"
            ]
          },
          "execution_count": 28,
          "metadata": {},
          "output_type": "execute_result"
        }
      ],
      "source": [
        "def accuracyScore(df: DataFrame, label: String, predictCol: String) = {\n",
        "  val rdd = df.select(label, predictCol).rdd.map(row ⇒ (row.getInt(0).toDouble, row.getDouble(1)))\n",
        "  new MulticlassMetrics(rdd).accuracy}\n",
        "\n",
        "println(\"test accuracy with pipeline \" + accuracyScore(model.transform(testDf), \"Survived\", \"prediction\"))"
      ]
    }
  ],
  "metadata": {
    "kernelspec": {
      "display_name": "spylon-kernel",
      "language": "scala",
      "name": "spylon-kernel"
    },
    "language_info": {
      "codemirror_mode": "text/x-scala",
      "file_extension": ".scala",
      "help_links": [
        {
          "text": "MetaKernel Magics",
          "url": "https://metakernel.readthedocs.io/en/latest/source/README.html"
        }
      ],
      "mimetype": "text/x-scala",
      "name": "scala",
      "pygments_lexer": "scala",
      "version": "0.4.1"
    },
    "latex_envs": {
      "LaTeX_envs_menu_present": true,
      "autoclose": false,
      "autocomplete": true,
      "bibliofile": "biblio.bib",
      "cite_by": "apalike",
      "current_citInitial": 1,
      "eqLabelWithNumbers": true,
      "eqNumInitial": 1,
      "hotkeys": {
        "equation": "Ctrl-E",
        "itemize": "Ctrl-I"
      },
      "labels_anchors": false,
      "latex_user_defs": false,
      "report_style_numbering": false,
      "user_envs_cfg": false
    },
    "colab": {
      "provenance": [],
      "include_colab_link": true
    }
  },
  "nbformat": 4,
  "nbformat_minor": 5
}