{
  "cells": [
    {
      "cell_type": "markdown",
      "metadata": {
        "id": "view-in-github",
        "colab_type": "text"
      },
      "source": [
        "<a href=\"https://colab.research.google.com/gist/soukainaRhazzafe/2d992a0f6a939378ead78c8e7b711c73/workshop.ipynb\" target=\"_parent\"><img src=\"https://colab.research.google.com/assets/colab-badge.svg\" alt=\"Open In Colab\"/></a>"
      ]
    },
    {
      "cell_type": "markdown",
      "id": "a9095eee",
      "metadata": {
        "id": "a9095eee"
      },
      "source": [
        "\n",
        "\n",
        "# Regrression:"
      ]
    },
    {
      "cell_type": "markdown",
      "id": "01c44b74",
      "metadata": {
        "id": "01c44b74"
      },
      "source": [
        "# I. EDA:"
      ]
    },
    {
      "cell_type": "markdown",
      "id": "efd5828f",
      "metadata": {
        "id": "efd5828f"
      },
      "source": [
        "## 1. Importing librairies:"
      ]
    },
    {
      "cell_type": "code",
      "execution_count": null,
      "id": "1100a62a",
      "metadata": {
        "id": "1100a62a"
      },
      "outputs": [],
      "source": [
        "import pandas as pd\n",
        "import numpy as np\n",
        "import category_encoders as ce\n",
        "import matplotlib.pyplot as plt\n",
        "import seaborn as sns\n",
        "from sklearn.preprocessing import StandardScaler, RobustScaler, FunctionTransformer\n",
        "from sklearn.model_selection import train_test_split, GridSearchCV\n",
        "from sklearn.pipeline import Pipeline, make_pipeline\n",
        "from sklearn import svm\n",
        "from sklearn.compose import ColumnTransformer\n",
        "from sklearn.ensemble import RandomForestClassifier\n",
        "from sklearn.metrics import classification_report, auc, accuracy_score, precision_recall_fscore_support,roc_curve\n",
        "from sklearn.neural_network import MLPClassifier\n",
        "from sklearn.neighbors import KNeighborsRegressor\n",
        "from sklearn.decomposition import PCA\n",
        "from sklearn.feature_selection import RFE\n",
        "from sklearn.ensemble import RandomForestRegressor\n",
        "from sklearn.linear_model import LinearRegression\n",
        "from sklearn.metrics import mean_squared_error, mean_absolute_error, r2_score\n",
        "import pickle"
      ]
    },
    {
      "cell_type": "markdown",
      "id": "b4f8b2c5",
      "metadata": {
        "id": "b4f8b2c5"
      },
      "source": [
        "## 2. Importing the dataset:"
      ]
    },
    {
      "cell_type": "code",
      "execution_count": null,
      "id": "8a8acd6d",
      "metadata": {
        "id": "8a8acd6d",
        "outputId": "a6ff9474-8953-48f2-8846-041f077e7778"
      },
      "outputs": [
        {
          "data": {
            "text/html": [
              "<div>\n",
              "<style scoped>\n",
              "    .dataframe tbody tr th:only-of-type {\n",
              "        vertical-align: middle;\n",
              "    }\n",
              "\n",
              "    .dataframe tbody tr th {\n",
              "        vertical-align: top;\n",
              "    }\n",
              "\n",
              "    .dataframe thead th {\n",
              "        text-align: right;\n",
              "    }\n",
              "</style>\n",
              "<table border=\"1\" class=\"dataframe\">\n",
              "  <thead>\n",
              "    <tr style=\"text-align: right;\">\n",
              "      <th></th>\n",
              "      <th>age</th>\n",
              "      <th>gender</th>\n",
              "      <th>bmi</th>\n",
              "      <th>children</th>\n",
              "      <th>smoker</th>\n",
              "      <th>region</th>\n",
              "      <th>insurance_cost</th>\n",
              "    </tr>\n",
              "  </thead>\n",
              "  <tbody>\n",
              "    <tr>\n",
              "      <th>0</th>\n",
              "      <td>18</td>\n",
              "      <td>male</td>\n",
              "      <td>33.770</td>\n",
              "      <td>1</td>\n",
              "      <td>no</td>\n",
              "      <td>southeast</td>\n",
              "      <td>1725.55230</td>\n",
              "    </tr>\n",
              "    <tr>\n",
              "      <th>1</th>\n",
              "      <td>18</td>\n",
              "      <td>male</td>\n",
              "      <td>34.100</td>\n",
              "      <td>0</td>\n",
              "      <td>no</td>\n",
              "      <td>southeast</td>\n",
              "      <td>1137.01100</td>\n",
              "    </tr>\n",
              "    <tr>\n",
              "      <th>2</th>\n",
              "      <td>18</td>\n",
              "      <td>female</td>\n",
              "      <td>26.315</td>\n",
              "      <td>0</td>\n",
              "      <td>no</td>\n",
              "      <td>northeast</td>\n",
              "      <td>2198.18985</td>\n",
              "    </tr>\n",
              "    <tr>\n",
              "      <th>3</th>\n",
              "      <td>18</td>\n",
              "      <td>female</td>\n",
              "      <td>38.665</td>\n",
              "      <td>2</td>\n",
              "      <td>no</td>\n",
              "      <td>northeast</td>\n",
              "      <td>3393.35635</td>\n",
              "    </tr>\n",
              "    <tr>\n",
              "      <th>4</th>\n",
              "      <td>18</td>\n",
              "      <td>female</td>\n",
              "      <td>35.625</td>\n",
              "      <td>0</td>\n",
              "      <td>no</td>\n",
              "      <td>northeast</td>\n",
              "      <td>2211.13075</td>\n",
              "    </tr>\n",
              "    <tr>\n",
              "      <th>...</th>\n",
              "      <td>...</td>\n",
              "      <td>...</td>\n",
              "      <td>...</td>\n",
              "      <td>...</td>\n",
              "      <td>...</td>\n",
              "      <td>...</td>\n",
              "      <td>...</td>\n",
              "    </tr>\n",
              "    <tr>\n",
              "      <th>1333</th>\n",
              "      <td>64</td>\n",
              "      <td>female</td>\n",
              "      <td>31.825</td>\n",
              "      <td>2</td>\n",
              "      <td>no</td>\n",
              "      <td>northeast</td>\n",
              "      <td>16069.08475</td>\n",
              "    </tr>\n",
              "    <tr>\n",
              "      <th>1334</th>\n",
              "      <td>64</td>\n",
              "      <td>female</td>\n",
              "      <td>26.885</td>\n",
              "      <td>0</td>\n",
              "      <td>yes</td>\n",
              "      <td>northwest</td>\n",
              "      <td>29330.98315</td>\n",
              "    </tr>\n",
              "    <tr>\n",
              "      <th>1335</th>\n",
              "      <td>64</td>\n",
              "      <td>male</td>\n",
              "      <td>26.410</td>\n",
              "      <td>0</td>\n",
              "      <td>no</td>\n",
              "      <td>northeast</td>\n",
              "      <td>14394.55790</td>\n",
              "    </tr>\n",
              "    <tr>\n",
              "      <th>1336</th>\n",
              "      <td>64</td>\n",
              "      <td>male</td>\n",
              "      <td>36.960</td>\n",
              "      <td>2</td>\n",
              "      <td>yes</td>\n",
              "      <td>southeast</td>\n",
              "      <td>49577.66240</td>\n",
              "    </tr>\n",
              "    <tr>\n",
              "      <th>1337</th>\n",
              "      <td>64</td>\n",
              "      <td>male</td>\n",
              "      <td>23.760</td>\n",
              "      <td>0</td>\n",
              "      <td>yes</td>\n",
              "      <td>southeast</td>\n",
              "      <td>26926.51440</td>\n",
              "    </tr>\n",
              "  </tbody>\n",
              "</table>\n",
              "<p>1338 rows × 7 columns</p>\n",
              "</div>"
            ],
            "text/plain": [
              "      age  gender     bmi  children smoker     region  insurance_cost\n",
              "0      18    male  33.770         1     no  southeast      1725.55230\n",
              "1      18    male  34.100         0     no  southeast      1137.01100\n",
              "2      18  female  26.315         0     no  northeast      2198.18985\n",
              "3      18  female  38.665         2     no  northeast      3393.35635\n",
              "4      18  female  35.625         0     no  northeast      2211.13075\n",
              "...   ...     ...     ...       ...    ...        ...             ...\n",
              "1333   64  female  31.825         2     no  northeast     16069.08475\n",
              "1334   64  female  26.885         0    yes  northwest     29330.98315\n",
              "1335   64    male  26.410         0     no  northeast     14394.55790\n",
              "1336   64    male  36.960         2    yes  southeast     49577.66240\n",
              "1337   64    male  23.760         0    yes  southeast     26926.51440\n",
              "\n",
              "[1338 rows x 7 columns]"
            ]
          },
          "execution_count": 2,
          "metadata": {},
          "output_type": "execute_result"
        }
      ],
      "source": [
        "insurance = pd.read_csv('insurance.csv')\n",
        "insurance"
      ]
    },
    {
      "cell_type": "markdown",
      "id": "756e2d2f",
      "metadata": {
        "id": "756e2d2f"
      },
      "source": [
        "## 3. Info about the columns:"
      ]
    },
    {
      "cell_type": "code",
      "execution_count": null,
      "id": "f015ea05",
      "metadata": {
        "id": "f015ea05",
        "outputId": "2b098d2d-7bed-4f06-e06d-f3c073503a8c"
      },
      "outputs": [
        {
          "name": "stdout",
          "output_type": "stream",
          "text": [
            "<class 'pandas.core.frame.DataFrame'>\n",
            "RangeIndex: 1338 entries, 0 to 1337\n",
            "Data columns (total 7 columns):\n",
            " #   Column          Non-Null Count  Dtype  \n",
            "---  ------          --------------  -----  \n",
            " 0   age             1338 non-null   int64  \n",
            " 1   gender          1338 non-null   object \n",
            " 2   bmi             1338 non-null   float64\n",
            " 3   children        1338 non-null   int64  \n",
            " 4   smoker          1338 non-null   object \n",
            " 5   region          1338 non-null   object \n",
            " 6   insurance_cost  1338 non-null   float64\n",
            "dtypes: float64(2), int64(2), object(3)\n",
            "memory usage: 73.3+ KB\n"
          ]
        }
      ],
      "source": [
        "insurance.info()"
      ]
    },
    {
      "cell_type": "markdown",
      "id": "f8dcebef",
      "metadata": {
        "id": "f8dcebef"
      },
      "source": [
        "## 4. Changing columns types to numerical:"
      ]
    },
    {
      "cell_type": "code",
      "execution_count": null,
      "id": "4c394f84",
      "metadata": {
        "id": "4c394f84"
      },
      "outputs": [],
      "source": [
        "numerical_cols= ['age','bmi','children','insurance_cost']\n",
        "for col in numerical_cols:\n",
        "    insurance[col] = pd.to_numeric(insurance[col], errors='coerce')"
      ]
    },
    {
      "cell_type": "markdown",
      "id": "60042aaf",
      "metadata": {
        "id": "60042aaf"
      },
      "source": [
        "## 5. Checking for duplicates:"
      ]
    },
    {
      "cell_type": "code",
      "execution_count": null,
      "id": "14489aab",
      "metadata": {
        "id": "14489aab",
        "outputId": "c9b86734-ca81-47ad-d32d-dadb72b03f92"
      },
      "outputs": [
        {
          "data": {
            "text/plain": [
              "1"
            ]
          },
          "execution_count": 5,
          "metadata": {},
          "output_type": "execute_result"
        }
      ],
      "source": [
        "insurance.duplicated().sum()"
      ]
    },
    {
      "cell_type": "markdown",
      "id": "729e21c6",
      "metadata": {
        "id": "729e21c6"
      },
      "source": [
        "### There is one duplicated row that should be removed."
      ]
    },
    {
      "cell_type": "markdown",
      "id": "4599b32a",
      "metadata": {
        "id": "4599b32a"
      },
      "source": [
        "## 6. Checking for missing values:"
      ]
    },
    {
      "cell_type": "code",
      "execution_count": null,
      "id": "60ae4609",
      "metadata": {
        "id": "60ae4609",
        "outputId": "2ded9d5a-8ec5-4f8e-a43a-711aa7ddcde9"
      },
      "outputs": [
        {
          "data": {
            "text/plain": [
              "age               0\n",
              "gender            0\n",
              "bmi               0\n",
              "children          0\n",
              "smoker            0\n",
              "region            0\n",
              "insurance_cost    0\n",
              "dtype: int64"
            ]
          },
          "execution_count": 6,
          "metadata": {},
          "output_type": "execute_result"
        }
      ],
      "source": [
        "insurance.isnull().sum()"
      ]
    },
    {
      "cell_type": "markdown",
      "id": "b3e223f1",
      "metadata": {
        "id": "b3e223f1"
      },
      "source": [
        "### There are no missimg values from the dataset."
      ]
    },
    {
      "cell_type": "markdown",
      "id": "3b5f9637",
      "metadata": {
        "id": "3b5f9637"
      },
      "source": [
        "## 7. Some visualizations:"
      ]
    },
    {
      "cell_type": "code",
      "execution_count": null,
      "id": "d85eb75b",
      "metadata": {
        "id": "d85eb75b",
        "outputId": "5dbd1220-8a7f-4359-e75f-4a980ad22fe6"
      },
      "outputs": [
        {
          "data": {
            "image/png": "[encoded data removed]",
            "text/plain": [
              "<Figure size 432x288 with 2 Axes>"
            ]
          },
          "metadata": {
            "needs_background": "light"
          },
          "output_type": "display_data"
        }
      ],
      "source": [
        "sns.heatmap(insurance.corr());"
      ]
    },
    {
      "cell_type": "code",
      "execution_count": null,
      "id": "c762a0af",
      "metadata": {
        "id": "c762a0af",
        "outputId": "8e2df21f-7125-450f-84a9-5b2cb81c16cc"
      },
      "outputs": [
        {
          "data": {
            "image/png": "[encoded data removed]",
            "text/plain": [
              "<Figure size 1296x360 with 4 Axes>"
            ]
          },
          "metadata": {
            "needs_background": "light"
          },
          "output_type": "display_data"
        }
      ],
      "source": [
        "fig, axes = plt.subplots(1,4,figsize=(18,5), sharey=True)\n",
        "axes = axes.ravel()\n",
        "\n",
        "for ax, x in zip(axes, numerical_cols):\n",
        "    ax.hist(insurance[x],  bins=50)\n",
        "    ax.set_title(x, fontsize=14)\n",
        "\n",
        "\n",
        "fig.suptitle('Potential customers disturbution by numerical data', fontsize=18)\n",
        "plt.show()"
      ]
    },
    {
      "cell_type": "code",
      "execution_count": null,
      "id": "1c671a22",
      "metadata": {
        "id": "1c671a22",
        "outputId": "e719b8a3-f671-4c65-c584-0151f53fc4b3"
      },
      "outputs": [
        {
          "data": {
            "image/png": "[encoded data removed]",
            "text/plain": [
              "<Figure size 1440x360 with 1 Axes>"
            ]
          },
          "metadata": {
            "needs_background": "light"
          },
          "output_type": "display_data"
        }
      ],
      "source": [
        "insurance.loc[:,:].boxplot(figsize=(20,5))\n",
        "plt.show()"
      ]
    },
    {
      "cell_type": "markdown",
      "id": "2280d568",
      "metadata": {
        "id": "2280d568"
      },
      "source": [
        "### No severe outliers were found."
      ]
    },
    {
      "cell_type": "markdown",
      "id": "389630ef",
      "metadata": {
        "id": "389630ef"
      },
      "source": [
        "# II. Data Preparation:"
      ]
    },
    {
      "cell_type": "markdown",
      "id": "413e6d6f",
      "metadata": {
        "id": "413e6d6f"
      },
      "source": [
        "## 1. Splitting the dataset:"
      ]
    },
    {
      "cell_type": "code",
      "execution_count": null,
      "id": "b3a3a300",
      "metadata": {
        "id": "b3a3a300"
      },
      "outputs": [],
      "source": [
        "y = insurance['insurance_cost']\n",
        "X = insurance.drop('insurance_cost', axis=1)\n",
        "\n",
        "X_train, X_test, y_train, y_test = train_test_split(X, y, test_size=0.2, shuffle=True, )"
      ]
    },
    {
      "cell_type": "markdown",
      "id": "94233a1a",
      "metadata": {
        "id": "94233a1a"
      },
      "source": [
        "## 2. Preprocessing pipeline:"
      ]
    },
    {
      "cell_type": "code",
      "execution_count": null,
      "id": "b8f2bb0a",
      "metadata": {
        "id": "b8f2bb0a"
      },
      "outputs": [],
      "source": [
        "categorical_cols=['gender','smoker','region']\n",
        "\n",
        "category_transformer = ColumnTransformer([\n",
        "    (\"min_max_scaler\",StandardScaler(),[0,2,3]),\n",
        "\n",
        "    (\"brand_location_ohe\",ce.OneHotEncoder(handle_unknown='ignore'),[1,4,5]),\n",
        "],remainder='passthrough')"
      ]
    },
    {
      "cell_type": "markdown",
      "id": "9a758d43",
      "metadata": {
        "id": "9a758d43"
      },
      "source": [
        "## 3. Models' training:"
      ]
    },
    {
      "cell_type": "markdown",
      "id": "b6edb436",
      "metadata": {
        "id": "b6edb436"
      },
      "source": [
        "### Linear Regression:"
      ]
    },
    {
      "cell_type": "code",
      "execution_count": null,
      "id": "513ab1ba",
      "metadata": {
        "id": "513ab1ba",
        "outputId": "4fbcbf42-9d5f-4db8-9835-b25438259e47"
      },
      "outputs": [
        {
          "name": "stdout",
          "output_type": "stream",
          "text": [
            "Best CV score = 0.744:\n",
            "Best parameters:  {'reduce_dim': PCA(iterated_power=7, n_components=11), 'reduce_dim__n_components': 11, 'regresson__normalize': False}\n"
          ]
        },
        {
          "name": "stderr",
          "output_type": "stream",
          "text": [
            "C:\\Users\\PC\\Documents\\Anaconda3\\lib\\site-packages\\sklearn\\linear_model\\_base.py:148: FutureWarning: 'normalize' was deprecated in version 1.0 and will be removed in 1.2. Please leave the normalize parameter to its default value to silence this warning. The default behavior of this estimator is to not do any normalization. If normalization is needed please use sklearn.preprocessing.StandardScaler instead.\n",
            "  warnings.warn(\n"
          ]
        }
      ],
      "source": [
        "pipe = Pipeline(steps=[('preprocess',category_transformer),\n",
        "                       ('reduce_dim', 'passthrough'),\n",
        "                       ('regresson', LinearRegression())])\n",
        "N_FEATURES_OPTIONS = [2, 6, 11]\n",
        "NORMALIZE_OPTIONS = [False, True]\n",
        "\n",
        "param_grid = [\n",
        "    {\n",
        "        'reduce_dim': [PCA(iterated_power=7)],\n",
        "        'reduce_dim__n_components': N_FEATURES_OPTIONS,\n",
        "        'regresson__normalize': NORMALIZE_OPTIONS\n",
        "    },\n",
        "    {\n",
        "        'reduce_dim': [RFE(svm.SVR(kernel='linear', gamma='auto')),RFE(LinearRegression())],\n",
        "        'reduce_dim__n_features_to_select': N_FEATURES_OPTIONS,\n",
        "        'regresson__normalize': NORMALIZE_OPTIONS\n",
        "    }\n",
        "]\n",
        "\n",
        "search = GridSearchCV(pipe, param_grid, n_jobs=-1, cv=5, refit=True)\n",
        "search.fit(X_train, y_train)\n",
        "print(\"Best CV score = %0.3f:\" % search.best_score_)\n",
        "print(\"Best parameters: \", search.best_params_)\n",
        "\n",
        "# store the best params and best model for later use\n",
        "LR_best_params = search.best_params_\n",
        "LR_best_model = search.best_estimator_"
      ]
    },
    {
      "cell_type": "markdown",
      "id": "584a78e1",
      "metadata": {
        "id": "584a78e1"
      },
      "source": [
        "### Random Forest Regressor:"
      ]
    },
    {
      "cell_type": "code",
      "execution_count": null,
      "id": "8618002e",
      "metadata": {
        "id": "8618002e",
        "outputId": "ac56186b-4928-42f7-d6ec-3c714ca113a2"
      },
      "outputs": [
        {
          "name": "stdout",
          "output_type": "stream",
          "text": [
            "Best CV score = 0.864:\n",
            "Best parameters:  {'reduce_dim': RFE(estimator=SVR(gamma='auto', kernel='linear'), n_features_to_select=11), 'reduce_dim__n_features_to_select': 11, 'regresson__max_depth': 4}\n"
          ]
        }
      ],
      "source": [
        "pipe = Pipeline(steps=[('preprocess', category_transformer),\n",
        "                       ('reduce_dim', 'passthrough'),\n",
        "                       ('regresson', RandomForestRegressor(n_estimators=10))])\n",
        "N_FEATURES_OPTIONS = [2, 6, 11]\n",
        "MAX_DEPTH_OPTIONS = [2, 4, 6, 8]\n",
        "\n",
        "param_grid = [\n",
        "    {\n",
        "        'reduce_dim': [PCA(iterated_power=7)],\n",
        "        'reduce_dim__n_components': N_FEATURES_OPTIONS,\n",
        "        'regresson__max_depth': MAX_DEPTH_OPTIONS\n",
        "    },\n",
        "    {\n",
        "        'reduce_dim': [RFE(svm.SVR(kernel='linear', gamma='auto')),RFE(LinearRegression())],\n",
        "        'reduce_dim__n_features_to_select': N_FEATURES_OPTIONS,\n",
        "        'regresson__max_depth': MAX_DEPTH_OPTIONS\n",
        "    }\n",
        "]\n",
        "\n",
        "search = GridSearchCV(pipe, param_grid, n_jobs=-1, cv=5, refit=True)\n",
        "search.fit(X_train, y_train)\n",
        "\n",
        "print(\"Best CV score = %0.3f:\" % search.best_score_)\n",
        "print(\"Best parameters: \", search.best_params_)\n",
        "\n",
        "# store the best params and best model for later use\n",
        "RF_best_params = search.best_params_\n",
        "RF_best_model = search.best_estimator_"
      ]
    },
    {
      "cell_type": "markdown",
      "id": "58282042",
      "metadata": {
        "id": "58282042"
      },
      "source": [
        "### KNN Regressor:"
      ]
    },
    {
      "cell_type": "code",
      "execution_count": null,
      "id": "d90a2f1d",
      "metadata": {
        "id": "d90a2f1d",
        "outputId": "f256e4f1-1a99-4768-df8e-707c5bc8210f"
      },
      "outputs": [
        {
          "name": "stdout",
          "output_type": "stream",
          "text": [
            "Best CV score = 0.832:\n",
            "Best parameters:  {'reduce_dim': RFE(estimator=LinearRegression(), n_features_to_select=6), 'reduce_dim__n_features_to_select': 6, 'regresson__n_neighbors': 9}\n"
          ]
        }
      ],
      "source": [
        "pipe = Pipeline(steps=[('preprocess', category_transformer),\n",
        "                       ('reduce_dim', 'passthrough'),\n",
        "                       ('regresson',KNeighborsRegressor())])\n",
        "N_FEATURES_OPTIONS = [2, 6, 11]\n",
        "k_range = list(range(1, 31))\n",
        "param_grid = [\n",
        "    {\n",
        "        'reduce_dim': [PCA(iterated_power=7)],\n",
        "        'reduce_dim__n_components': N_FEATURES_OPTIONS,\n",
        "        'regresson__n_neighbors': k_range\n",
        "\n",
        "    },\n",
        "    {\n",
        "        'reduce_dim': [RFE(svm.SVR(kernel='linear', gamma='auto')),RFE(LinearRegression())],\n",
        "        'reduce_dim__n_features_to_select': N_FEATURES_OPTIONS,\n",
        "        'regresson__n_neighbors': k_range\n",
        "\n",
        "    }\n",
        "]\n",
        "\n",
        "search = GridSearchCV(pipe, param_grid, n_jobs=-1, cv=5, refit=True)\n",
        "search.fit(X_train, y_train)\n",
        "\n",
        "print(\"Best CV score = %0.3f:\" % search.best_score_)\n",
        "print(\"Best parameters: \", search.best_params_)\n",
        "\n",
        "# store the best params and best model for later use\n",
        "KNN_best_params = search.best_params_\n",
        "KNN_best_model = search.best_estimator_"
      ]
    },
    {
      "cell_type": "markdown",
      "id": "db137a25",
      "metadata": {
        "id": "db137a25"
      },
      "source": [
        "## 4. Models evaluation:"
      ]
    },
    {
      "cell_type": "code",
      "execution_count": null,
      "id": "35567660",
      "metadata": {
        "id": "35567660"
      },
      "outputs": [],
      "source": [
        "def evaluate_model(X_test, y_test, model):\n",
        "\n",
        "    # compute predictiond for the test set\n",
        "    _predicted_values = model.predict(X_test)\n",
        "\n",
        "    # compute metrics\n",
        "    _mse = mean_squared_error(y_test, _predicted_values)\n",
        "    _mae = mean_absolute_error(y_test, _predicted_values)\n",
        "    _r2 = r2_score(y_test, _predicted_values)\n",
        "\n",
        "    return _mse, _mae, _r2"
      ]
    },
    {
      "cell_type": "code",
      "execution_count": null,
      "id": "36abf23e",
      "metadata": {
        "id": "36abf23e"
      },
      "outputs": [],
      "source": [
        "RF_mse, RF_mae, RF_r2 = evaluate_model(X_test, y_test, RF_best_model)\n",
        "LR_mse, LR_mae, LR_r2 = evaluate_model(X_test, y_test, LR_best_model)\n",
        "KNN_mse,KNN_mae, KNN_r2 = evaluate_model(X_test, y_test, KNN_best_model)"
      ]
    },
    {
      "cell_type": "code",
      "execution_count": null,
      "id": "d1131119",
      "metadata": {
        "id": "d1131119",
        "outputId": "afbd51c2-0f58-4064-eb46-6e8a407795d1"
      },
      "outputs": [
        {
          "data": {
            "image/png": "[encoded data removed]",
            "text/plain": [
              "<Figure size 1440x360 with 3 Axes>"
            ]
          },
          "metadata": {
            "needs_background": "light"
          },
          "output_type": "display_data"
        }
      ],
      "source": [
        "df_mse = pd.DataFrame({'Random Forest': RF_mse, 'Linear Regression': LR_mse, 'KNearestNeighbor': KNN_mse}, index=['MSE'])\n",
        "df_mae = pd.DataFrame({'Random Forest': RF_mae, 'Linear Regression': LR_mae, 'KNearestNeighbor': KNN_mae}, index=['MAE'])\n",
        "df_r2 = pd.DataFrame({'Random Forest': RF_r2, 'Linear Regression': LR_r2, 'KNearestNeighbor': KNN_r2}, index=['R2'])\n",
        "\n",
        "fig, axes = plt.subplots(nrows=1, ncols=3, figsize=(20, 5))\n",
        "\n",
        "df_mse.plot.bar(rot=0, ax=axes[0])\n",
        "df_mae.plot.bar(rot=0, ax=axes[1])\n",
        "df_r2.plot.bar(rot=0, ax=axes[2])\n",
        "\n",
        "plt.show()"
      ]
    },
    {
      "cell_type": "markdown",
      "id": "47a77bd4",
      "metadata": {
        "id": "47a77bd4"
      },
      "source": [
        "## The overall best model is the random forest."
      ]
    },
    {
      "cell_type": "markdown",
      "id": "2ff9518a",
      "metadata": {
        "id": "2ff9518a"
      },
      "source": [
        "## 5. Saving the best model:"
      ]
    },
    {
      "cell_type": "code",
      "execution_count": null,
      "id": "c2f071fd",
      "metadata": {
        "id": "c2f071fd"
      },
      "outputs": [],
      "source": [
        "def transform(dict, prefix):\n",
        "    dict_prefix = {key:value for key,value in dict.items() if prefix in key}\n",
        "    return {key.replace(prefix,''):value for key,value in dict_prefix.items()}\n",
        "\n",
        "encoder=encoder=ce.OneHotEncoder(handle_unknown='ignore',use_cat_names=True)\n",
        "preprocess_pipeline = make_pipeline(encoder,StandardScaler())\n",
        "\n",
        "\n",
        "pipe = make_pipeline(preprocess_pipeline,\n",
        "                     RF_best_params.get('reduce_dim'),\n",
        "                     RandomForestRegressor(n_estimators=10, **transform(RF_best_params, 'regresson__')))\n",
        "\n",
        "final_model =pipe.fit(X, y)\n",
        "filename = 'regressionl_model.sav'\n",
        "pickle.dump(final_model, open(filename, 'wb'))"
      ]
    },
    {
      "cell_type": "markdown",
      "id": "3db1506e",
      "metadata": {
        "id": "3db1506e"
      },
      "source": [
        "# Classification:"
      ]
    },
    {
      "cell_type": "markdown",
      "id": "af21305d",
      "metadata": {
        "id": "af21305d"
      },
      "source": [
        "## 1. Regression problem ta a classification problem:"
      ]
    },
    {
      "cell_type": "code",
      "execution_count": null,
      "id": "fb03a9ad",
      "metadata": {
        "id": "fb03a9ad",
        "outputId": "eec5e0b4-0774-454e-e3be-bea81aa7db17"
      },
      "outputs": [
        {
          "data": {
            "text/html": [
              "<div>\n",
              "<style scoped>\n",
              "    .dataframe tbody tr th:only-of-type {\n",
              "        vertical-align: middle;\n",
              "    }\n",
              "\n",
              "    .dataframe tbody tr th {\n",
              "        vertical-align: top;\n",
              "    }\n",
              "\n",
              "    .dataframe thead th {\n",
              "        text-align: right;\n",
              "    }\n",
              "</style>\n",
              "<table border=\"1\" class=\"dataframe\">\n",
              "  <thead>\n",
              "    <tr style=\"text-align: right;\">\n",
              "      <th></th>\n",
              "      <th>age</th>\n",
              "      <th>gender</th>\n",
              "      <th>bmi</th>\n",
              "      <th>children</th>\n",
              "      <th>smoker</th>\n",
              "      <th>region</th>\n",
              "      <th>insurance_cost</th>\n",
              "    </tr>\n",
              "  </thead>\n",
              "  <tbody>\n",
              "    <tr>\n",
              "      <th>0</th>\n",
              "      <td>18</td>\n",
              "      <td>male</td>\n",
              "      <td>33.770</td>\n",
              "      <td>1</td>\n",
              "      <td>no</td>\n",
              "      <td>southeast</td>\n",
              "      <td>0.0</td>\n",
              "    </tr>\n",
              "    <tr>\n",
              "      <th>1</th>\n",
              "      <td>18</td>\n",
              "      <td>male</td>\n",
              "      <td>34.100</td>\n",
              "      <td>0</td>\n",
              "      <td>no</td>\n",
              "      <td>southeast</td>\n",
              "      <td>0.0</td>\n",
              "    </tr>\n",
              "    <tr>\n",
              "      <th>2</th>\n",
              "      <td>18</td>\n",
              "      <td>female</td>\n",
              "      <td>26.315</td>\n",
              "      <td>0</td>\n",
              "      <td>no</td>\n",
              "      <td>northeast</td>\n",
              "      <td>0.0</td>\n",
              "    </tr>\n",
              "    <tr>\n",
              "      <th>3</th>\n",
              "      <td>18</td>\n",
              "      <td>female</td>\n",
              "      <td>38.665</td>\n",
              "      <td>2</td>\n",
              "      <td>no</td>\n",
              "      <td>northeast</td>\n",
              "      <td>0.0</td>\n",
              "    </tr>\n",
              "    <tr>\n",
              "      <th>4</th>\n",
              "      <td>18</td>\n",
              "      <td>female</td>\n",
              "      <td>35.625</td>\n",
              "      <td>0</td>\n",
              "      <td>no</td>\n",
              "      <td>northeast</td>\n",
              "      <td>0.0</td>\n",
              "    </tr>\n",
              "    <tr>\n",
              "      <th>...</th>\n",
              "      <td>...</td>\n",
              "      <td>...</td>\n",
              "      <td>...</td>\n",
              "      <td>...</td>\n",
              "      <td>...</td>\n",
              "      <td>...</td>\n",
              "      <td>...</td>\n",
              "    </tr>\n",
              "    <tr>\n",
              "      <th>1333</th>\n",
              "      <td>64</td>\n",
              "      <td>female</td>\n",
              "      <td>31.825</td>\n",
              "      <td>2</td>\n",
              "      <td>no</td>\n",
              "      <td>northeast</td>\n",
              "      <td>1.0</td>\n",
              "    </tr>\n",
              "    <tr>\n",
              "      <th>1334</th>\n",
              "      <td>64</td>\n",
              "      <td>female</td>\n",
              "      <td>26.885</td>\n",
              "      <td>0</td>\n",
              "      <td>yes</td>\n",
              "      <td>northwest</td>\n",
              "      <td>1.0</td>\n",
              "    </tr>\n",
              "    <tr>\n",
              "      <th>1335</th>\n",
              "      <td>64</td>\n",
              "      <td>male</td>\n",
              "      <td>26.410</td>\n",
              "      <td>0</td>\n",
              "      <td>no</td>\n",
              "      <td>northeast</td>\n",
              "      <td>1.0</td>\n",
              "    </tr>\n",
              "    <tr>\n",
              "      <th>1336</th>\n",
              "      <td>64</td>\n",
              "      <td>male</td>\n",
              "      <td>36.960</td>\n",
              "      <td>2</td>\n",
              "      <td>yes</td>\n",
              "      <td>southeast</td>\n",
              "      <td>1.0</td>\n",
              "    </tr>\n",
              "    <tr>\n",
              "      <th>1337</th>\n",
              "      <td>64</td>\n",
              "      <td>male</td>\n",
              "      <td>23.760</td>\n",
              "      <td>0</td>\n",
              "      <td>yes</td>\n",
              "      <td>southeast</td>\n",
              "      <td>1.0</td>\n",
              "    </tr>\n",
              "  </tbody>\n",
              "</table>\n",
              "<p>1338 rows × 7 columns</p>\n",
              "</div>"
            ],
            "text/plain": [
              "      age  gender     bmi  children smoker     region  insurance_cost\n",
              "0      18    male  33.770         1     no  southeast             0.0\n",
              "1      18    male  34.100         0     no  southeast             0.0\n",
              "2      18  female  26.315         0     no  northeast             0.0\n",
              "3      18  female  38.665         2     no  northeast             0.0\n",
              "4      18  female  35.625         0     no  northeast             0.0\n",
              "...   ...     ...     ...       ...    ...        ...             ...\n",
              "1333   64  female  31.825         2     no  northeast             1.0\n",
              "1334   64  female  26.885         0    yes  northwest             1.0\n",
              "1335   64    male  26.410         0     no  northeast             1.0\n",
              "1336   64    male  36.960         2    yes  southeast             1.0\n",
              "1337   64    male  23.760         0    yes  southeast             1.0\n",
              "\n",
              "[1338 rows x 7 columns]"
            ]
          },
          "execution_count": 19,
          "metadata": {},
          "output_type": "execute_result"
        }
      ],
      "source": [
        "insurance.loc[insurance['insurance_cost'] < insurance['insurance_cost'].mean(), 'insurance_cost']= 0\n",
        "insurance.loc[insurance['insurance_cost'] >= insurance['insurance_cost'].mean(), 'insurance_cost']= 1\n",
        "insurance"
      ]
    },
    {
      "cell_type": "markdown",
      "id": "c1994db6",
      "metadata": {
        "id": "c1994db6"
      },
      "source": [
        "## 2. Customers count by class:"
      ]
    },
    {
      "cell_type": "code",
      "execution_count": null,
      "id": "10e856f1",
      "metadata": {
        "id": "10e856f1",
        "outputId": "c8e61b96-d415-4c8c-dc83-a2669a45a688"
      },
      "outputs": [
        {
          "data": {
            "image/png": "[encoded data removed]",
            "text/plain": [
              "<Figure size 432x288 with 1 Axes>"
            ]
          },
          "metadata": {
            "needs_background": "light"
          },
          "output_type": "display_data"
        }
      ],
      "source": [
        "plt.bar(insurance['insurance_cost'].unique(), insurance['insurance_cost'].value_counts())\n",
        "plt.title('Count of customers by class\\n', fontsize=18)\n",
        "plt.show()"
      ]
    },
    {
      "cell_type": "code",
      "execution_count": null,
      "id": "30d93f7e",
      "metadata": {
        "id": "30d93f7e",
        "outputId": "fe897cf5-acda-42ea-8fa1-d7c5f4ed571c"
      },
      "outputs": [
        {
          "data": {
            "image/png": "[encoded data removed]",
            "text/plain": [
              "<Figure size 1152x792 with 4 Axes>"
            ]
          },
          "metadata": {
            "needs_background": "light"
          },
          "output_type": "display_data"
        }
      ],
      "source": [
        "columns = ['gender', 'smoker', 'region', 'insurance_cost']\n",
        "fig, axes = plt.subplots(2,2,figsize=(16, 11), sharey=True)\n",
        "axes = axes.ravel()\n",
        "\n",
        "\n",
        "for ax, x in zip(axes, columns):\n",
        "    ax.bar(insurance[x].unique(),insurance[x].value_counts())\n",
        "    ax.set_title(x, fontsize=14)\n",
        "\n",
        "fig.suptitle('Class disturbution', fontsize=18)\n",
        "plt.show()"
      ]
    },
    {
      "cell_type": "markdown",
      "id": "031e3353",
      "metadata": {
        "id": "031e3353"
      },
      "source": [
        "## 3. Attributes correlation to class:"
      ]
    },
    {
      "cell_type": "code",
      "execution_count": null,
      "id": "357dfe88",
      "metadata": {
        "id": "357dfe88",
        "outputId": "7556b61c-da83-4ab2-cd5e-9a7598a68847"
      },
      "outputs": [
        {
          "data": {
            "image/png": "[encoded data removed]",
            "text/plain": [
              "<Figure size 1800x576 with 1 Axes>"
            ]
          },
          "metadata": {
            "needs_background": "light"
          },
          "output_type": "display_data"
        }
      ],
      "source": [
        "dummies = pd.get_dummies(insurance)\n",
        "plt.figure(figsize=(25,8))\n",
        "dummies.corr()[\"insurance_cost\"].sort_values(ascending = False).plot(kind='bar',color=['#b83253'])\n",
        "plt.title('Dummy variables correlation to insurance_cost')\n",
        "plt.show()"
      ]
    },
    {
      "cell_type": "markdown",
      "id": "3fefae6c",
      "metadata": {
        "id": "3fefae6c"
      },
      "source": [
        "### We can remove the column gender since both its values seem to have very little correlation to the customer's choice."
      ]
    },
    {
      "cell_type": "markdown",
      "id": "59d90a29",
      "metadata": {
        "id": "59d90a29"
      },
      "source": [
        "# II. Data Preparation:"
      ]
    },
    {
      "cell_type": "markdown",
      "id": "961d75cd",
      "metadata": {
        "id": "961d75cd"
      },
      "source": [
        "## 1. Splitting the dataset:"
      ]
    },
    {
      "cell_type": "code",
      "execution_count": null,
      "id": "880b8242",
      "metadata": {
        "id": "880b8242"
      },
      "outputs": [],
      "source": [
        "y = insurance['insurance_cost']\n",
        "X = insurance.drop('insurance_cost', axis=1).values\n",
        "\n",
        "X_train, X_test, y_train, y_test = train_test_split(X, y, test_size=0.2, shuffle=True, stratify=y)"
      ]
    },
    {
      "cell_type": "markdown",
      "id": "63b0bdad",
      "metadata": {
        "id": "63b0bdad"
      },
      "source": [
        "## 2. Models Training:"
      ]
    },
    {
      "cell_type": "markdown",
      "id": "50d5d14b",
      "metadata": {
        "id": "50d5d14b"
      },
      "source": [
        "### SVM Classifier:"
      ]
    },
    {
      "cell_type": "code",
      "execution_count": null,
      "id": "74d358af",
      "metadata": {
        "id": "74d358af",
        "outputId": "066ce345-6ad9-4b30-de61-7264ed0ef846"
      },
      "outputs": [
        {
          "name": "stdout",
          "output_type": "stream",
          "text": [
            "Best CV score = 0.910:\n",
            "Best parameters:  {'svm__C': 0.1, 'svm__gamma': 1, 'svm__kernel': 'poly'}\n"
          ]
        }
      ],
      "source": [
        "pipe = Pipeline(steps=[('preprocess', category_transformer), ('svm', svm.SVC(probability=True))])\n",
        "param_grid = {\n",
        "    'svm__C': [0.1, 1, 10, 100],\n",
        "    'svm__gamma': [1, 0.1, 0.01, 0.001],\n",
        "    'svm__kernel': ['rbf', 'linear', 'poly']}\n",
        "\n",
        "search = GridSearchCV(pipe, param_grid, n_jobs=-1, cv=5, refit=True)\n",
        "search.fit(X_train, y_train) #trainign happens here! SVM is trained 240 times\n",
        "print(\"Best CV score = %0.3f:\" % search.best_score_)\n",
        "print(\"Best parameters: \", search.best_params_)\n",
        "SVM_best_params = search.best_params_\n",
        "SVM_best_model = search.best_estimator_"
      ]
    },
    {
      "cell_type": "markdown",
      "id": "572e6cb1",
      "metadata": {
        "id": "572e6cb1"
      },
      "source": [
        "### RandomForest Classifier:"
      ]
    },
    {
      "cell_type": "code",
      "execution_count": null,
      "id": "07670436",
      "metadata": {
        "id": "07670436",
        "outputId": "762bda2c-2c22-42c0-c757-22039474db14"
      },
      "outputs": [
        {
          "name": "stdout",
          "output_type": "stream",
          "text": [
            "Best CV score = 0.921:\n",
            "Best parameters:  {'rf__max_depth': 8, 'rf__n_estimators': 20}\n"
          ]
        }
      ],
      "source": [
        "pipe = Pipeline(steps=[('preprocess', category_transformer), ('rf', RandomForestClassifier())])\n",
        "param_grid = {\n",
        "    'rf__n_estimators' : [10,20,30],\n",
        "    'rf__max_depth': [2, 4, 6, 8]\n",
        "}\n",
        "search = GridSearchCV(pipe, param_grid, n_jobs=-1, cv=5, refit=True)\n",
        "search.fit(X_train, y_train)\n",
        "print(\"Best CV score = %0.3f:\" % search.best_score_)\n",
        "print(\"Best parameters: \", search.best_params_)\n",
        "RF_best_params = search.best_params_\n",
        "RF_best_model = search.best_estimator_"
      ]
    },
    {
      "cell_type": "markdown",
      "id": "d7c8e966",
      "metadata": {
        "id": "d7c8e966"
      },
      "source": [
        "### MLP Classifier:"
      ]
    },
    {
      "cell_type": "code",
      "execution_count": null,
      "id": "a95a8a87",
      "metadata": {
        "id": "a95a8a87",
        "outputId": "2297b3f5-2a5c-4b73-d770-93cda905b847"
      },
      "outputs": [
        {
          "name": "stdout",
          "output_type": "stream",
          "text": [
            "Best CV score = 0.918:\n",
            "Best parameters:  {'mlp__activation': 'tanh', 'mlp__alpha': 0.05, 'mlp__hidden_layer_sizes': (10, 30, 10), 'mlp__learning_rate': 'adaptive', 'mlp__max_iter': 300, 'mlp__solver': 'adam'}\n"
          ]
        },
        {
          "name": "stderr",
          "output_type": "stream",
          "text": [
            "C:\\Users\\PC\\Documents\\Anaconda3\\lib\\site-packages\\sklearn\\neural_network\\_multilayer_perceptron.py:702: ConvergenceWarning: Stochastic Optimizer: Maximum iterations (300) reached and the optimization hasn't converged yet.\n",
            "  warnings.warn(\n"
          ]
        }
      ],
      "source": [
        "pipe = Pipeline(steps=[('preprocess', category_transformer), ('mlp', MLPClassifier())])\n",
        "param_grid = {\n",
        "    'mlp__max_iter': [300],\n",
        "    'mlp__hidden_layer_sizes': [(10,30,10),(20,)],\n",
        "    'mlp__activation': ['tanh', 'relu'],\n",
        "    'mlp__solver': ['sgd', 'adam'],\n",
        "    'mlp__alpha': [0.0001, 0.05],\n",
        "    'mlp__learning_rate': ['constant','adaptive']\n",
        "}\n",
        "search = GridSearchCV(pipe, param_grid, n_jobs=-1, cv=5, refit=True)\n",
        "search.fit(X_train, y_train)\n",
        "print(\"Best CV score = %0.3f:\" % search.best_score_)\n",
        "print(\"Best parameters: \", search.best_params_)\n",
        "MLP_best_params = search.best_params_\n",
        "MLP_best_model = search.best_estimator_"
      ]
    },
    {
      "cell_type": "markdown",
      "id": "d0c943fa",
      "metadata": {
        "id": "d0c943fa"
      },
      "source": [
        "## 3. Models evaluation:"
      ]
    },
    {
      "cell_type": "code",
      "execution_count": null,
      "id": "c403cb04",
      "metadata": {
        "id": "c403cb04"
      },
      "outputs": [],
      "source": [
        "mean_fpr = np.linspace(start=0, stop=1, num=100)\n",
        "def evaluate_model(X_test, y_test, model):\n",
        "    _probabilities = model.predict_proba(X_test)[:, 1]\n",
        "    _predicted_values = model.predict(X_test)\n",
        "    _accuracy = accuracy_score(y_test, _predicted_values)\n",
        "    _precision, _recall, _f1_score, _ = precision_recall_fscore_support(y_test, _predicted_values, labels=[1])\n",
        "    _fpr, _tpr, _ = roc_curve(y_test, _probabilities)\n",
        "    _tpr_transformed = np.array([np.interp(mean_fpr, _fpr, _tpr)])\n",
        "    _auc = auc(_fpr, _tpr)\n",
        "    return _accuracy, _precision[0], _recall[0], _f1_score[0], _tpr_transformed, _auc"
      ]
    },
    {
      "cell_type": "code",
      "execution_count": null,
      "id": "ab64e1c1",
      "metadata": {
        "id": "ab64e1c1"
      },
      "outputs": [],
      "source": [
        "SVM_accuracy, SVM_precision, SVM_recall, SVM_f1_score, SVM_tpr, SVM_auc = evaluate_model(X_test, y_test, SVM_best_model)\n",
        "RF_accuracy, RF_precision, RF_recall, RF_f1_score, RF_tpr, RF_auc = evaluate_model(X_test, y_test, RF_best_model)\n",
        "MLP_accuracy, MLP_precision, MLP_recall, MLP_f1_score, MLP_tpr, MLP_auc = evaluate_model(X_test, y_test, MLP_best_model)"
      ]
    },
    {
      "cell_type": "code",
      "execution_count": null,
      "id": "50c0fadb",
      "metadata": {
        "id": "50c0fadb",
        "outputId": "37bc12bb-338e-4890-ea2f-6ad879a9f456"
      },
      "outputs": [
        {
          "data": {
            "image/png": "[encoded data removed]",
            "text/plain": [
              "<Figure size 432x288 with 1 Axes>"
            ]
          },
          "metadata": {
            "needs_background": "light"
          },
          "output_type": "display_data"
        }
      ],
      "source": [
        "SVM_metrics = np.array([SVM_accuracy, SVM_precision, SVM_recall, SVM_f1_score])\n",
        "RF_metrics = np.array([RF_accuracy, RF_precision, RF_recall, RF_f1_score])\n",
        "MLP_metrics = np.array([MLP_accuracy, MLP_precision, MLP_recall, MLP_f1_score])\n",
        "index = ['accuracy', 'precision', 'recall', 'F1-score']\n",
        "df_metrics = pd.DataFrame({'SVM': SVM_metrics, 'Random Forest': RF_metrics, 'MultiLayer Perceptron': MLP_metrics}, index=index)\n",
        "df_metrics.plot.bar(rot=0)\n",
        "plt.legend(loc=\"lower right\")\n",
        "plt.show()"
      ]
    },
    {
      "cell_type": "code",
      "execution_count": null,
      "id": "8c6383c2",
      "metadata": {
        "id": "8c6383c2",
        "outputId": "0a99f69c-9abf-45b0-943b-beb2cdffa2ec"
      },
      "outputs": [
        {
          "data": {
            "image/png": "[encoded data removed]",
            "text/plain": [
              "<Figure size 432x288 with 1 Axes>"
            ]
          },
          "metadata": {
            "needs_background": "light"
          },
          "output_type": "display_data"
        }
      ],
      "source": [
        "plt.plot([0, 1], [0, 1], linestyle='--', lw=2, color='r', label='Chance', alpha=0.8)\n",
        "plt.plot(mean_fpr, SVM_tpr[0,:], lw=2, color='blue', label='SVM (AUC = %0.2f)' % (SVM_auc), alpha=0.8)\n",
        "plt.plot(mean_fpr, RF_tpr[0,:], lw=2, color='orange', label='Random Forest (AUC = %0.2f)' % (RF_auc), alpha=0.8)\n",
        "plt.plot(mean_fpr, MLP_tpr[0,:], lw=2, color='green', label='MultiLayer Perceptron (AUC = %0.2f)' % (MLP_auc), alpha=0.8)\n",
        "\n",
        "plt.xlabel('False Positive Rate')\n",
        "plt.ylabel('True Positive Rate')\n",
        "plt.title('ROC curves for multiple classifiers')\n",
        "plt.legend(loc=\"lower right\")\n",
        "plt.show()"
      ]
    },
    {
      "cell_type": "markdown",
      "id": "89d2cd95",
      "metadata": {
        "id": "89d2cd95"
      },
      "source": [
        "## 4. Training a model without the column 'gender':"
      ]
    },
    {
      "cell_type": "code",
      "execution_count": null,
      "id": "7e4e1b38",
      "metadata": {
        "id": "7e4e1b38",
        "outputId": "2a01ddf7-dc8f-48b6-c3a7-45c09a116b76"
      },
      "outputs": [
        {
          "name": "stdout",
          "output_type": "stream",
          "text": [
            "Best CV score = 0.905:\n",
            "Best parameters:  {'rf__max_depth': 2, 'rf__n_estimators': 10}\n"
          ]
        }
      ],
      "source": [
        "y = insurance['insurance_cost']\n",
        "insurance = insurance.drop('gender',axis=1)\n",
        "X = insurance.drop('insurance_cost', axis=1).values\n",
        "\n",
        "X_train, X_test, y_train, y_test = train_test_split(X, y, test_size=0.2, shuffle=True)\n",
        "\n",
        "categorical_cols=['smoker','region']\n",
        "encoder=encoder=ce.OneHotEncoder(handle_unknown='ignore',use_cat_names=True)\n",
        "preprocess_pipeline = make_pipeline(encoder,StandardScaler())\n",
        "\n",
        "category_transformer = ColumnTransformer([\n",
        "    (\"min_max_scaler\",StandardScaler(),[0,1,2]),\n",
        "\n",
        "    (\"brand_location_ohe\",ce.OneHotEncoder(handle_unknown='ignore'),[3,4]),\n",
        "],remainder='passthrough')\n",
        "\n",
        "pipe = Pipeline(steps=[('preprocess', category_transformer), ('rf', RandomForestClassifier())])\n",
        "param_grid = {\n",
        "    'rf__n_estimators' : [10,20,30],\n",
        "    'rf__max_depth': [2]\n",
        "}\n",
        "\n",
        "search = GridSearchCV(pipe, param_grid, n_jobs=-1, cv=5, refit=True)\n",
        "search.fit(X_train, y_train)\n",
        "print(\"Best CV score = %0.3f:\" % search.best_score_)\n",
        "print(\"Best parameters: \", search.best_params_)\n",
        "RF_best_params = search.best_params_\n",
        "RF_best_model = search.best_estimator_"
      ]
    },
    {
      "cell_type": "code",
      "execution_count": null,
      "id": "a143f3b5",
      "metadata": {
        "id": "a143f3b5",
        "outputId": "21918194-1bda-4967-eaa1-4d0605334e86"
      },
      "outputs": [
        {
          "data": {
            "text/html": [
              "<div>\n",
              "<style scoped>\n",
              "    .dataframe tbody tr th:only-of-type {\n",
              "        vertical-align: middle;\n",
              "    }\n",
              "\n",
              "    .dataframe tbody tr th {\n",
              "        vertical-align: top;\n",
              "    }\n",
              "\n",
              "    .dataframe thead th {\n",
              "        text-align: right;\n",
              "    }\n",
              "</style>\n",
              "<table border=\"1\" class=\"dataframe\">\n",
              "  <thead>\n",
              "    <tr style=\"text-align: right;\">\n",
              "      <th></th>\n",
              "      <th>age</th>\n",
              "      <th>bmi</th>\n",
              "      <th>children</th>\n",
              "      <th>smoker</th>\n",
              "      <th>region</th>\n",
              "      <th>insurance_cost</th>\n",
              "    </tr>\n",
              "  </thead>\n",
              "  <tbody>\n",
              "    <tr>\n",
              "      <th>0</th>\n",
              "      <td>18</td>\n",
              "      <td>33.770</td>\n",
              "      <td>1</td>\n",
              "      <td>no</td>\n",
              "      <td>southeast</td>\n",
              "      <td>0.0</td>\n",
              "    </tr>\n",
              "    <tr>\n",
              "      <th>1</th>\n",
              "      <td>18</td>\n",
              "      <td>34.100</td>\n",
              "      <td>0</td>\n",
              "      <td>no</td>\n",
              "      <td>southeast</td>\n",
              "      <td>0.0</td>\n",
              "    </tr>\n",
              "    <tr>\n",
              "      <th>2</th>\n",
              "      <td>18</td>\n",
              "      <td>26.315</td>\n",
              "      <td>0</td>\n",
              "      <td>no</td>\n",
              "      <td>northeast</td>\n",
              "      <td>0.0</td>\n",
              "    </tr>\n",
              "    <tr>\n",
              "      <th>3</th>\n",
              "      <td>18</td>\n",
              "      <td>38.665</td>\n",
              "      <td>2</td>\n",
              "      <td>no</td>\n",
              "      <td>northeast</td>\n",
              "      <td>0.0</td>\n",
              "    </tr>\n",
              "    <tr>\n",
              "      <th>4</th>\n",
              "      <td>18</td>\n",
              "      <td>35.625</td>\n",
              "      <td>0</td>\n",
              "      <td>no</td>\n",
              "      <td>northeast</td>\n",
              "      <td>0.0</td>\n",
              "    </tr>\n",
              "    <tr>\n",
              "      <th>...</th>\n",
              "      <td>...</td>\n",
              "      <td>...</td>\n",
              "      <td>...</td>\n",
              "      <td>...</td>\n",
              "      <td>...</td>\n",
              "      <td>...</td>\n",
              "    </tr>\n",
              "    <tr>\n",
              "      <th>1333</th>\n",
              "      <td>64</td>\n",
              "      <td>31.825</td>\n",
              "      <td>2</td>\n",
              "      <td>no</td>\n",
              "      <td>northeast</td>\n",
              "      <td>1.0</td>\n",
              "    </tr>\n",
              "    <tr>\n",
              "      <th>1334</th>\n",
              "      <td>64</td>\n",
              "      <td>26.885</td>\n",
              "      <td>0</td>\n",
              "      <td>yes</td>\n",
              "      <td>northwest</td>\n",
              "      <td>1.0</td>\n",
              "    </tr>\n",
              "    <tr>\n",
              "      <th>1335</th>\n",
              "      <td>64</td>\n",
              "      <td>26.410</td>\n",
              "      <td>0</td>\n",
              "      <td>no</td>\n",
              "      <td>northeast</td>\n",
              "      <td>1.0</td>\n",
              "    </tr>\n",
              "    <tr>\n",
              "      <th>1336</th>\n",
              "      <td>64</td>\n",
              "      <td>36.960</td>\n",
              "      <td>2</td>\n",
              "      <td>yes</td>\n",
              "      <td>southeast</td>\n",
              "      <td>1.0</td>\n",
              "    </tr>\n",
              "    <tr>\n",
              "      <th>1337</th>\n",
              "      <td>64</td>\n",
              "      <td>23.760</td>\n",
              "      <td>0</td>\n",
              "      <td>yes</td>\n",
              "      <td>southeast</td>\n",
              "      <td>1.0</td>\n",
              "    </tr>\n",
              "  </tbody>\n",
              "</table>\n",
              "<p>1338 rows × 6 columns</p>\n",
              "</div>"
            ],
            "text/plain": [
              "      age     bmi  children smoker     region  insurance_cost\n",
              "0      18  33.770         1     no  southeast             0.0\n",
              "1      18  34.100         0     no  southeast             0.0\n",
              "2      18  26.315         0     no  northeast             0.0\n",
              "3      18  38.665         2     no  northeast             0.0\n",
              "4      18  35.625         0     no  northeast             0.0\n",
              "...   ...     ...       ...    ...        ...             ...\n",
              "1333   64  31.825         2     no  northeast             1.0\n",
              "1334   64  26.885         0    yes  northwest             1.0\n",
              "1335   64  26.410         0     no  northeast             1.0\n",
              "1336   64  36.960         2    yes  southeast             1.0\n",
              "1337   64  23.760         0    yes  southeast             1.0\n",
              "\n",
              "[1338 rows x 6 columns]"
            ]
          },
          "execution_count": 32,
          "metadata": {},
          "output_type": "execute_result"
        }
      ],
      "source": [
        "insurance"
      ]
    },
    {
      "cell_type": "code",
      "execution_count": null,
      "id": "2c68fa21",
      "metadata": {
        "id": "2c68fa21"
      },
      "outputs": [],
      "source": [
        "def transform(dict):\n",
        "    return {key.replace('rf__','') :  value for key, value in dict.items()}\n",
        "\n",
        "pipe = make_pipeline(category_transformer, RandomForestClassifier(**transform(RF_best_params)))\n",
        "\n",
        "final_model =pipe.fit(X, y)\n",
        "\n",
        "plt.figure(figsize=(10,10))\n",
        "\n",
        "X = pd.DataFrame(X, columns =['age', 'bmi', 'children', 'gender_female',\n",
        "        'gender_male', 'smoker_no', 'smoker_yes', 'region_northeast',\n",
        "        'region_northwest', 'region_southeast', 'region_southwest'])\n",
        "sorted_columns = pipe.steps[1][1].feature_importances_.argsort()\n",
        "plt_rf =plt.barh(X.columns[sorted_columns], pipe.steps[1][1].feature_importances_[sorted_columns],color='#fc666f')\n",
        "plt.title('Feature importances ')\n",
        "\n",
        "filename = 'Classification_model.sav'\n",
        "pickle.dump(final_model, open(filename, 'wb'))"
      ]
    },
    {
      "cell_type": "code",
      "execution_count": null,
      "id": "f18584f3",
      "metadata": {
        "id": "f18584f3",
        "outputId": "13cf5add-6439-49ed-ba4e-e94874081eea"
      },
      "outputs": [
        {
          "data": {
            "text/plain": [
              "array(['0.0', '0.0', '0.0', '0.0', '0.0', '1.0', '0.0', '0.0', '1.0',\n",
              "       '1.0'], dtype='<U32')"
            ]
          },
          "execution_count": 60,
          "metadata": {},
          "output_type": "execute_result"
        }
      ],
      "source": [
        "y_pred"
      ]
    },
    {
      "cell_type": "code",
      "execution_count": null,
      "id": "eeeb5889",
      "metadata": {
        "id": "eeeb5889",
        "outputId": "c50d623a-94fd-41f2-edf8-1138b4152a33"
      },
      "outputs": [
        {
          "name": "stdout",
          "output_type": "stream",
          "text": [
            "Pipeline(steps=[('columntransformer',\n",
            "                 ColumnTransformer(remainder='passthrough',\n",
            "                                   transformers=[('min_max_scaler',\n",
            "                                                  StandardScaler(), [0, 1, 2]),\n",
            "                                                 ('brand_location_ohe',\n",
            "                                                  OneHotEncoder(handle_unknown='ignore'),\n",
            "                                                  [3, 4])])),\n",
            "                ('randomforestclassifier',\n",
            "                 RandomForestClassifier(max_depth=2, n_estimators=10))])\n",
            "Accuracy :  0.9\n",
            "              precision    recall  f1-score   support\n",
            "\n",
            "         0.0       0.86      1.00      0.92         6\n",
            "         1.0       1.00      0.75      0.86         4\n",
            "\n",
            "    accuracy                           0.90        10\n",
            "   macro avg       0.93      0.88      0.89        10\n",
            "weighted avg       0.91      0.90      0.90        10\n",
            "\n"
          ]
        }
      ],
      "source": [
        "DT = pickle.load(open('Classification_model.sav', 'rb'))\n",
        "xv= X[:10]\n",
        "yv= y[:10].astype(str)\n",
        "print(DT)\n",
        "y_pred = DT.predict(xv)\n",
        "\n",
        "y_pred= y_pred.astype(str)\n",
        "acc = accuracy_score(yv,y_pred)\n",
        "print('Accuracy : ',acc)\n",
        "print(classification_report(yv,y_pred))"
      ]
    },
    {
      "cell_type": "markdown",
      "id": "a6d35acc",
      "metadata": {
        "id": "a6d35acc"
      },
      "source": [
        "*************************************************************************************"
      ]
    },
    {
      "cell_type": "markdown",
      "id": "6d09a86c",
      "metadata": {
        "id": "6d09a86c"
      },
      "source": [
        "*********************************************************************************************************************"
      ]
    },
    {
      "cell_type": "markdown",
      "id": "ced6f8a3",
      "metadata": {
        "id": "ced6f8a3"
      },
      "source": [
        "# Bank:"
      ]
    },
    {
      "cell_type": "markdown",
      "id": "cf11975d",
      "metadata": {
        "id": "cf11975d"
      },
      "source": [
        "# I. EDA:"
      ]
    },
    {
      "cell_type": "markdown",
      "id": "127f597b",
      "metadata": {
        "id": "127f597b"
      },
      "source": [
        "## 1. Importing librairies:"
      ]
    },
    {
      "cell_type": "markdown",
      "id": "2e4e8254",
      "metadata": {
        "id": "2e4e8254"
      },
      "source": [
        "## 2. Importing the dataset:"
      ]
    },
    {
      "cell_type": "code",
      "execution_count": null,
      "id": "19df3e1a",
      "metadata": {
        "id": "19df3e1a"
      },
      "outputs": [],
      "source": [
        "bank = pd.read_csv('bank.csv')"
      ]
    },
    {
      "cell_type": "markdown",
      "id": "abdf22a6",
      "metadata": {
        "id": "abdf22a6"
      },
      "source": [
        "## 3. First look at the data:"
      ]
    },
    {
      "cell_type": "code",
      "execution_count": null,
      "id": "a4be9980",
      "metadata": {
        "id": "a4be9980"
      },
      "outputs": [],
      "source": [
        "bank"
      ]
    },
    {
      "cell_type": "markdown",
      "id": "5de82242",
      "metadata": {
        "id": "5de82242"
      },
      "source": [
        "### The dataset contains 2000 rows and 17 columns."
      ]
    },
    {
      "cell_type": "markdown",
      "id": "99685af7",
      "metadata": {
        "id": "99685af7"
      },
      "source": [
        "## 4. Info about the columns:"
      ]
    },
    {
      "cell_type": "code",
      "execution_count": null,
      "id": "713da8d9",
      "metadata": {
        "scrolled": false,
        "id": "713da8d9"
      },
      "outputs": [],
      "source": [
        "bank.info()"
      ]
    },
    {
      "cell_type": "markdown",
      "id": "648e3617",
      "metadata": {
        "id": "648e3617"
      },
      "source": [
        "### We can clearly see that there are some missing values:\n",
        "- 'Age' contains 2000-1988 = 12 missing values.\n",
        "- 'Job' contains 2000-1990 = 10 missing values.\n",
        "- 'Education' contains 2000-1896 = 114 missing values.\n",
        "- 'Contact' contains 2000-1809 = 191 missing values.\n",
        "- 'POutcome' contains 2000-1546 = 454 missing values, less than 25% of data is missing so we can keep the column."
      ]
    },
    {
      "cell_type": "markdown",
      "id": "428bdee4",
      "metadata": {
        "id": "428bdee4"
      },
      "source": [
        "## 6. Checking for duplicates:"
      ]
    },
    {
      "cell_type": "code",
      "execution_count": null,
      "id": "7e879bca",
      "metadata": {
        "id": "7e879bca"
      },
      "outputs": [],
      "source": [
        "bank.duplicated().sum()"
      ]
    },
    {
      "cell_type": "markdown",
      "id": "4a9154d3",
      "metadata": {
        "id": "4a9154d3"
      },
      "source": [
        "### There are no duplicated rows in the dataset."
      ]
    },
    {
      "cell_type": "markdown",
      "id": "f09545ef",
      "metadata": {
        "id": "f09545ef"
      },
      "source": [
        "### We will deal with missing values later, as for now let's just drop rows containing missing values."
      ]
    },
    {
      "cell_type": "markdown",
      "id": "7be05dee",
      "metadata": {
        "id": "7be05dee"
      },
      "source": [
        "## 6. Numerical data exploration:"
      ]
    },
    {
      "cell_type": "code",
      "execution_count": null,
      "id": "e3874154",
      "metadata": {
        "id": "e3874154"
      },
      "outputs": [],
      "source": [
        "bank.describe()"
      ]
    },
    {
      "cell_type": "markdown",
      "id": "0f18fb8c",
      "metadata": {
        "id": "0f18fb8c"
      },
      "source": [
        "## 7. Attributes correlation to the target:"
      ]
    },
    {
      "cell_type": "markdown",
      "id": "41364aa1",
      "metadata": {
        "id": "41364aa1"
      },
      "source": [
        "### Dataset encoding:"
      ]
    },
    {
      "cell_type": "code",
      "execution_count": null,
      "id": "b2dbd31d",
      "metadata": {
        "scrolled": false,
        "id": "b2dbd31d"
      },
      "outputs": [],
      "source": [
        "bank['subscribed'] = bank['subscribed'].replace({'yes': 1, 'no': 0})\n",
        "dummies = pd.get_dummies(bank.dropna())\n",
        "dummies"
      ]
    },
    {
      "cell_type": "code",
      "execution_count": null,
      "id": "69583e35",
      "metadata": {
        "id": "69583e35"
      },
      "outputs": [],
      "source": [
        "plt.figure(figsize=(25,8))\n",
        "dummies.corr()[\"subscribed\"].sort_values(ascending = False).plot(kind='bar',color=['#b83253'])\n",
        "plt.title('Dummy variables correlation to subscription')\n",
        "plt.show()"
      ]
    },
    {
      "cell_type": "markdown",
      "id": "d2d9715b",
      "metadata": {
        "id": "d2d9715b"
      },
      "source": [
        "# II. Data Preparation:"
      ]
    },
    {
      "cell_type": "code",
      "execution_count": null,
      "id": "f4e687b3",
      "metadata": {
        "id": "f4e687b3"
      },
      "outputs": [],
      "source": []
    }
  ],
  "metadata": {
    "kernelspec": {
      "display_name": "Python 3 (ipykernel)",
      "language": "python",
      "name": "python3"
    },
    "language_info": {
      "codemirror_mode": {
        "name": "ipython",
        "version": 3
      },
      "file_extension": ".py",
      "mimetype": "text/x-python",
      "name": "python",
      "nbconvert_exporter": "python",
      "pygments_lexer": "ipython3",
      "version": "3.11.7"
    },
    "latex_envs": {
      "LaTeX_envs_menu_present": true,
      "autoclose": false,
      "autocomplete": true,
      "bibliofile": "biblio.bib",
      "cite_by": "apalike",
      "current_citInitial": 1,
      "eqLabelWithNumbers": true,
      "eqNumInitial": 1,
      "hotkeys": {
        "equation": "Ctrl-E",
        "itemize": "Ctrl-I"
      },
      "labels_anchors": false,
      "latex_user_defs": false,
      "report_style_numbering": false,
      "user_envs_cfg": false
    },
    "colab": {
      "provenance": [],
      "include_colab_link": true
    }
  },
  "nbformat": 4,
  "nbformat_minor": 5
}